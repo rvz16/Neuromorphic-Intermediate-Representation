{
  "nbformat": 4,
  "nbformat_minor": 0,
  "metadata": {
    "colab": {
      "provenance": [],
      "gpuType": "T4"
    },
    "kernelspec": {
      "name": "python3",
      "display_name": "Python 3"
    },
    "language_info": {
      "name": "python"
    },
    "accelerator": "GPU",
    "widgets": {
      "application/vnd.jupyter.widget-state+json": {
        "4f49415d0bd940829d9704b4c836ef3f": {
          "model_module": "@jupyter-widgets/controls",
          "model_name": "HBoxModel",
          "model_module_version": "1.5.0",
          "state": {
            "_dom_classes": [],
            "_model_module": "@jupyter-widgets/controls",
            "_model_module_version": "1.5.0",
            "_model_name": "HBoxModel",
            "_view_count": null,
            "_view_module": "@jupyter-widgets/controls",
            "_view_module_version": "1.5.0",
            "_view_name": "HBoxView",
            "box_style": "",
            "children": [
              "IPY_MODEL_abdd783cc45a4cbe99fa466126b1a233",
              "IPY_MODEL_f37d320d2a094f40ae3a45efbe874175",
              "IPY_MODEL_d86a3609aaa64a88a3a54d2408ef98d2"
            ],
            "layout": "IPY_MODEL_56b44232ea154085ac9fe68894aa633e"
          }
        },
        "abdd783cc45a4cbe99fa466126b1a233": {
          "model_module": "@jupyter-widgets/controls",
          "model_name": "HTMLModel",
          "model_module_version": "1.5.0",
          "state": {
            "_dom_classes": [],
            "_model_module": "@jupyter-widgets/controls",
            "_model_module_version": "1.5.0",
            "_model_name": "HTMLModel",
            "_view_count": null,
            "_view_module": "@jupyter-widgets/controls",
            "_view_module_version": "1.5.0",
            "_view_name": "HTMLView",
            "description": "",
            "description_tooltip": null,
            "layout": "IPY_MODEL_e3eec4eb2df8458bb53c2cf3ed2bf581",
            "placeholder": "​",
            "style": "IPY_MODEL_2fd7e5606bc94051a1c58cb12f6abde9",
            "value": ""
          }
        },
        "f37d320d2a094f40ae3a45efbe874175": {
          "model_module": "@jupyter-widgets/controls",
          "model_name": "FloatProgressModel",
          "model_module_version": "1.5.0",
          "state": {
            "_dom_classes": [],
            "_model_module": "@jupyter-widgets/controls",
            "_model_module_version": "1.5.0",
            "_model_name": "FloatProgressModel",
            "_view_count": null,
            "_view_module": "@jupyter-widgets/controls",
            "_view_module_version": "1.5.0",
            "_view_name": "ProgressView",
            "bar_style": "success",
            "description": "",
            "description_tooltip": null,
            "layout": "IPY_MODEL_92ee382018844d3584cceba29a30bfed",
            "max": 1011893601,
            "min": 0,
            "orientation": "horizontal",
            "style": "IPY_MODEL_fe162c2af6e444a3979e2d42f5095fa5",
            "value": 1011893601
          }
        },
        "d86a3609aaa64a88a3a54d2408ef98d2": {
          "model_module": "@jupyter-widgets/controls",
          "model_name": "HTMLModel",
          "model_module_version": "1.5.0",
          "state": {
            "_dom_classes": [],
            "_model_module": "@jupyter-widgets/controls",
            "_model_module_version": "1.5.0",
            "_model_name": "HTMLModel",
            "_view_count": null,
            "_view_module": "@jupyter-widgets/controls",
            "_view_module_version": "1.5.0",
            "_view_name": "HTMLView",
            "description": "",
            "description_tooltip": null,
            "layout": "IPY_MODEL_25868b73f10e4b849511dcc194739965",
            "placeholder": "​",
            "style": "IPY_MODEL_aa9bd8f741cd498ba6d68150b216dd3b",
            "value": " 1011894272/? [00:47&lt;00:00, 21514600.97it/s]"
          }
        },
        "56b44232ea154085ac9fe68894aa633e": {
          "model_module": "@jupyter-widgets/base",
          "model_name": "LayoutModel",
          "model_module_version": "1.2.0",
          "state": {
            "_model_module": "@jupyter-widgets/base",
            "_model_module_version": "1.2.0",
            "_model_name": "LayoutModel",
            "_view_count": null,
            "_view_module": "@jupyter-widgets/base",
            "_view_module_version": "1.2.0",
            "_view_name": "LayoutView",
            "align_content": null,
            "align_items": null,
            "align_self": null,
            "border": null,
            "bottom": null,
            "display": null,
            "flex": null,
            "flex_flow": null,
            "grid_area": null,
            "grid_auto_columns": null,
            "grid_auto_flow": null,
            "grid_auto_rows": null,
            "grid_column": null,
            "grid_gap": null,
            "grid_row": null,
            "grid_template_areas": null,
            "grid_template_columns": null,
            "grid_template_rows": null,
            "height": null,
            "justify_content": null,
            "justify_items": null,
            "left": null,
            "margin": null,
            "max_height": null,
            "max_width": null,
            "min_height": null,
            "min_width": null,
            "object_fit": null,
            "object_position": null,
            "order": null,
            "overflow": null,
            "overflow_x": null,
            "overflow_y": null,
            "padding": null,
            "right": null,
            "top": null,
            "visibility": null,
            "width": null
          }
        },
        "e3eec4eb2df8458bb53c2cf3ed2bf581": {
          "model_module": "@jupyter-widgets/base",
          "model_name": "LayoutModel",
          "model_module_version": "1.2.0",
          "state": {
            "_model_module": "@jupyter-widgets/base",
            "_model_module_version": "1.2.0",
            "_model_name": "LayoutModel",
            "_view_count": null,
            "_view_module": "@jupyter-widgets/base",
            "_view_module_version": "1.2.0",
            "_view_name": "LayoutView",
            "align_content": null,
            "align_items": null,
            "align_self": null,
            "border": null,
            "bottom": null,
            "display": null,
            "flex": null,
            "flex_flow": null,
            "grid_area": null,
            "grid_auto_columns": null,
            "grid_auto_flow": null,
            "grid_auto_rows": null,
            "grid_column": null,
            "grid_gap": null,
            "grid_row": null,
            "grid_template_areas": null,
            "grid_template_columns": null,
            "grid_template_rows": null,
            "height": null,
            "justify_content": null,
            "justify_items": null,
            "left": null,
            "margin": null,
            "max_height": null,
            "max_width": null,
            "min_height": null,
            "min_width": null,
            "object_fit": null,
            "object_position": null,
            "order": null,
            "overflow": null,
            "overflow_x": null,
            "overflow_y": null,
            "padding": null,
            "right": null,
            "top": null,
            "visibility": null,
            "width": null
          }
        },
        "2fd7e5606bc94051a1c58cb12f6abde9": {
          "model_module": "@jupyter-widgets/controls",
          "model_name": "DescriptionStyleModel",
          "model_module_version": "1.5.0",
          "state": {
            "_model_module": "@jupyter-widgets/controls",
            "_model_module_version": "1.5.0",
            "_model_name": "DescriptionStyleModel",
            "_view_count": null,
            "_view_module": "@jupyter-widgets/base",
            "_view_module_version": "1.2.0",
            "_view_name": "StyleView",
            "description_width": ""
          }
        },
        "92ee382018844d3584cceba29a30bfed": {
          "model_module": "@jupyter-widgets/base",
          "model_name": "LayoutModel",
          "model_module_version": "1.2.0",
          "state": {
            "_model_module": "@jupyter-widgets/base",
            "_model_module_version": "1.2.0",
            "_model_name": "LayoutModel",
            "_view_count": null,
            "_view_module": "@jupyter-widgets/base",
            "_view_module_version": "1.2.0",
            "_view_name": "LayoutView",
            "align_content": null,
            "align_items": null,
            "align_self": null,
            "border": null,
            "bottom": null,
            "display": null,
            "flex": null,
            "flex_flow": null,
            "grid_area": null,
            "grid_auto_columns": null,
            "grid_auto_flow": null,
            "grid_auto_rows": null,
            "grid_column": null,
            "grid_gap": null,
            "grid_row": null,
            "grid_template_areas": null,
            "grid_template_columns": null,
            "grid_template_rows": null,
            "height": null,
            "justify_content": null,
            "justify_items": null,
            "left": null,
            "margin": null,
            "max_height": null,
            "max_width": null,
            "min_height": null,
            "min_width": null,
            "object_fit": null,
            "object_position": null,
            "order": null,
            "overflow": null,
            "overflow_x": null,
            "overflow_y": null,
            "padding": null,
            "right": null,
            "top": null,
            "visibility": null,
            "width": null
          }
        },
        "fe162c2af6e444a3979e2d42f5095fa5": {
          "model_module": "@jupyter-widgets/controls",
          "model_name": "ProgressStyleModel",
          "model_module_version": "1.5.0",
          "state": {
            "_model_module": "@jupyter-widgets/controls",
            "_model_module_version": "1.5.0",
            "_model_name": "ProgressStyleModel",
            "_view_count": null,
            "_view_module": "@jupyter-widgets/base",
            "_view_module_version": "1.2.0",
            "_view_name": "StyleView",
            "bar_color": null,
            "description_width": ""
          }
        },
        "25868b73f10e4b849511dcc194739965": {
          "model_module": "@jupyter-widgets/base",
          "model_name": "LayoutModel",
          "model_module_version": "1.2.0",
          "state": {
            "_model_module": "@jupyter-widgets/base",
            "_model_module_version": "1.2.0",
            "_model_name": "LayoutModel",
            "_view_count": null,
            "_view_module": "@jupyter-widgets/base",
            "_view_module_version": "1.2.0",
            "_view_name": "LayoutView",
            "align_content": null,
            "align_items": null,
            "align_self": null,
            "border": null,
            "bottom": null,
            "display": null,
            "flex": null,
            "flex_flow": null,
            "grid_area": null,
            "grid_auto_columns": null,
            "grid_auto_flow": null,
            "grid_auto_rows": null,
            "grid_column": null,
            "grid_gap": null,
            "grid_row": null,
            "grid_template_areas": null,
            "grid_template_columns": null,
            "grid_template_rows": null,
            "height": null,
            "justify_content": null,
            "justify_items": null,
            "left": null,
            "margin": null,
            "max_height": null,
            "max_width": null,
            "min_height": null,
            "min_width": null,
            "object_fit": null,
            "object_position": null,
            "order": null,
            "overflow": null,
            "overflow_x": null,
            "overflow_y": null,
            "padding": null,
            "right": null,
            "top": null,
            "visibility": null,
            "width": null
          }
        },
        "aa9bd8f741cd498ba6d68150b216dd3b": {
          "model_module": "@jupyter-widgets/controls",
          "model_name": "DescriptionStyleModel",
          "model_module_version": "1.5.0",
          "state": {
            "_model_module": "@jupyter-widgets/controls",
            "_model_module_version": "1.5.0",
            "_model_name": "DescriptionStyleModel",
            "_view_count": null,
            "_view_module": "@jupyter-widgets/base",
            "_view_module_version": "1.2.0",
            "_view_name": "StyleView",
            "description_width": ""
          }
        },
        "57b55730196c44c695f80732713dd589": {
          "model_module": "@jupyter-widgets/controls",
          "model_name": "HBoxModel",
          "model_module_version": "1.5.0",
          "state": {
            "_dom_classes": [],
            "_model_module": "@jupyter-widgets/controls",
            "_model_module_version": "1.5.0",
            "_model_name": "HBoxModel",
            "_view_count": null,
            "_view_module": "@jupyter-widgets/controls",
            "_view_module_version": "1.5.0",
            "_view_name": "HBoxView",
            "box_style": "",
            "children": [
              "IPY_MODEL_0e904bc32d634393820aa90774803b98",
              "IPY_MODEL_02ddcbe39b834adabf9d376f599265d9",
              "IPY_MODEL_da6a23194b0c425899b8a80889e32ea3"
            ],
            "layout": "IPY_MODEL_1bfa28686341435ea36c3348c8a9b133"
          }
        },
        "0e904bc32d634393820aa90774803b98": {
          "model_module": "@jupyter-widgets/controls",
          "model_name": "HTMLModel",
          "model_module_version": "1.5.0",
          "state": {
            "_dom_classes": [],
            "_model_module": "@jupyter-widgets/controls",
            "_model_module_version": "1.5.0",
            "_model_name": "HTMLModel",
            "_view_count": null,
            "_view_module": "@jupyter-widgets/controls",
            "_view_module_version": "1.5.0",
            "_view_name": "HTMLView",
            "description": "",
            "description_tooltip": null,
            "layout": "IPY_MODEL_896733448d404593bf5e3ece98f512b9",
            "placeholder": "​",
            "style": "IPY_MODEL_1bd94cb5bcf54e808063aeba3abe214d",
            "value": ""
          }
        },
        "02ddcbe39b834adabf9d376f599265d9": {
          "model_module": "@jupyter-widgets/controls",
          "model_name": "FloatProgressModel",
          "model_module_version": "1.5.0",
          "state": {
            "_dom_classes": [],
            "_model_module": "@jupyter-widgets/controls",
            "_model_module_version": "1.5.0",
            "_model_name": "FloatProgressModel",
            "_view_count": null,
            "_view_module": "@jupyter-widgets/controls",
            "_view_module_version": "1.5.0",
            "_view_name": "ProgressView",
            "bar_style": "success",
            "description": "",
            "description_tooltip": null,
            "layout": "IPY_MODEL_5c885c9dd8764cc5a3228453a2caf594",
            "max": 169674850,
            "min": 0,
            "orientation": "horizontal",
            "style": "IPY_MODEL_78911864200a453ca43041729c118827",
            "value": 169674850
          }
        },
        "da6a23194b0c425899b8a80889e32ea3": {
          "model_module": "@jupyter-widgets/controls",
          "model_name": "HTMLModel",
          "model_module_version": "1.5.0",
          "state": {
            "_dom_classes": [],
            "_model_module": "@jupyter-widgets/controls",
            "_model_module_version": "1.5.0",
            "_model_name": "HTMLModel",
            "_view_count": null,
            "_view_module": "@jupyter-widgets/controls",
            "_view_module_version": "1.5.0",
            "_view_name": "HTMLView",
            "description": "",
            "description_tooltip": null,
            "layout": "IPY_MODEL_ee2c25630e5a4b63b8b07fe85f39ddb3",
            "placeholder": "​",
            "style": "IPY_MODEL_dc9c0184b45b4916856970363bc67ff4",
            "value": " 169675776/? [00:09&lt;00:00, 20141519.39it/s]"
          }
        },
        "1bfa28686341435ea36c3348c8a9b133": {
          "model_module": "@jupyter-widgets/base",
          "model_name": "LayoutModel",
          "model_module_version": "1.2.0",
          "state": {
            "_model_module": "@jupyter-widgets/base",
            "_model_module_version": "1.2.0",
            "_model_name": "LayoutModel",
            "_view_count": null,
            "_view_module": "@jupyter-widgets/base",
            "_view_module_version": "1.2.0",
            "_view_name": "LayoutView",
            "align_content": null,
            "align_items": null,
            "align_self": null,
            "border": null,
            "bottom": null,
            "display": null,
            "flex": null,
            "flex_flow": null,
            "grid_area": null,
            "grid_auto_columns": null,
            "grid_auto_flow": null,
            "grid_auto_rows": null,
            "grid_column": null,
            "grid_gap": null,
            "grid_row": null,
            "grid_template_areas": null,
            "grid_template_columns": null,
            "grid_template_rows": null,
            "height": null,
            "justify_content": null,
            "justify_items": null,
            "left": null,
            "margin": null,
            "max_height": null,
            "max_width": null,
            "min_height": null,
            "min_width": null,
            "object_fit": null,
            "object_position": null,
            "order": null,
            "overflow": null,
            "overflow_x": null,
            "overflow_y": null,
            "padding": null,
            "right": null,
            "top": null,
            "visibility": null,
            "width": null
          }
        },
        "896733448d404593bf5e3ece98f512b9": {
          "model_module": "@jupyter-widgets/base",
          "model_name": "LayoutModel",
          "model_module_version": "1.2.0",
          "state": {
            "_model_module": "@jupyter-widgets/base",
            "_model_module_version": "1.2.0",
            "_model_name": "LayoutModel",
            "_view_count": null,
            "_view_module": "@jupyter-widgets/base",
            "_view_module_version": "1.2.0",
            "_view_name": "LayoutView",
            "align_content": null,
            "align_items": null,
            "align_self": null,
            "border": null,
            "bottom": null,
            "display": null,
            "flex": null,
            "flex_flow": null,
            "grid_area": null,
            "grid_auto_columns": null,
            "grid_auto_flow": null,
            "grid_auto_rows": null,
            "grid_column": null,
            "grid_gap": null,
            "grid_row": null,
            "grid_template_areas": null,
            "grid_template_columns": null,
            "grid_template_rows": null,
            "height": null,
            "justify_content": null,
            "justify_items": null,
            "left": null,
            "margin": null,
            "max_height": null,
            "max_width": null,
            "min_height": null,
            "min_width": null,
            "object_fit": null,
            "object_position": null,
            "order": null,
            "overflow": null,
            "overflow_x": null,
            "overflow_y": null,
            "padding": null,
            "right": null,
            "top": null,
            "visibility": null,
            "width": null
          }
        },
        "1bd94cb5bcf54e808063aeba3abe214d": {
          "model_module": "@jupyter-widgets/controls",
          "model_name": "DescriptionStyleModel",
          "model_module_version": "1.5.0",
          "state": {
            "_model_module": "@jupyter-widgets/controls",
            "_model_module_version": "1.5.0",
            "_model_name": "DescriptionStyleModel",
            "_view_count": null,
            "_view_module": "@jupyter-widgets/base",
            "_view_module_version": "1.2.0",
            "_view_name": "StyleView",
            "description_width": ""
          }
        },
        "5c885c9dd8764cc5a3228453a2caf594": {
          "model_module": "@jupyter-widgets/base",
          "model_name": "LayoutModel",
          "model_module_version": "1.2.0",
          "state": {
            "_model_module": "@jupyter-widgets/base",
            "_model_module_version": "1.2.0",
            "_model_name": "LayoutModel",
            "_view_count": null,
            "_view_module": "@jupyter-widgets/base",
            "_view_module_version": "1.2.0",
            "_view_name": "LayoutView",
            "align_content": null,
            "align_items": null,
            "align_self": null,
            "border": null,
            "bottom": null,
            "display": null,
            "flex": null,
            "flex_flow": null,
            "grid_area": null,
            "grid_auto_columns": null,
            "grid_auto_flow": null,
            "grid_auto_rows": null,
            "grid_column": null,
            "grid_gap": null,
            "grid_row": null,
            "grid_template_areas": null,
            "grid_template_columns": null,
            "grid_template_rows": null,
            "height": null,
            "justify_content": null,
            "justify_items": null,
            "left": null,
            "margin": null,
            "max_height": null,
            "max_width": null,
            "min_height": null,
            "min_width": null,
            "object_fit": null,
            "object_position": null,
            "order": null,
            "overflow": null,
            "overflow_x": null,
            "overflow_y": null,
            "padding": null,
            "right": null,
            "top": null,
            "visibility": null,
            "width": null
          }
        },
        "78911864200a453ca43041729c118827": {
          "model_module": "@jupyter-widgets/controls",
          "model_name": "ProgressStyleModel",
          "model_module_version": "1.5.0",
          "state": {
            "_model_module": "@jupyter-widgets/controls",
            "_model_module_version": "1.5.0",
            "_model_name": "ProgressStyleModel",
            "_view_count": null,
            "_view_module": "@jupyter-widgets/base",
            "_view_module_version": "1.2.0",
            "_view_name": "StyleView",
            "bar_color": null,
            "description_width": ""
          }
        },
        "ee2c25630e5a4b63b8b07fe85f39ddb3": {
          "model_module": "@jupyter-widgets/base",
          "model_name": "LayoutModel",
          "model_module_version": "1.2.0",
          "state": {
            "_model_module": "@jupyter-widgets/base",
            "_model_module_version": "1.2.0",
            "_model_name": "LayoutModel",
            "_view_count": null,
            "_view_module": "@jupyter-widgets/base",
            "_view_module_version": "1.2.0",
            "_view_name": "LayoutView",
            "align_content": null,
            "align_items": null,
            "align_self": null,
            "border": null,
            "bottom": null,
            "display": null,
            "flex": null,
            "flex_flow": null,
            "grid_area": null,
            "grid_auto_columns": null,
            "grid_auto_flow": null,
            "grid_auto_rows": null,
            "grid_column": null,
            "grid_gap": null,
            "grid_row": null,
            "grid_template_areas": null,
            "grid_template_columns": null,
            "grid_template_rows": null,
            "height": null,
            "justify_content": null,
            "justify_items": null,
            "left": null,
            "margin": null,
            "max_height": null,
            "max_width": null,
            "min_height": null,
            "min_width": null,
            "object_fit": null,
            "object_position": null,
            "order": null,
            "overflow": null,
            "overflow_x": null,
            "overflow_y": null,
            "padding": null,
            "right": null,
            "top": null,
            "visibility": null,
            "width": null
          }
        },
        "dc9c0184b45b4916856970363bc67ff4": {
          "model_module": "@jupyter-widgets/controls",
          "model_name": "DescriptionStyleModel",
          "model_module_version": "1.5.0",
          "state": {
            "_model_module": "@jupyter-widgets/controls",
            "_model_module_version": "1.5.0",
            "_model_name": "DescriptionStyleModel",
            "_view_count": null,
            "_view_module": "@jupyter-widgets/base",
            "_view_module_version": "1.2.0",
            "_view_name": "StyleView",
            "description_width": ""
          }
        }
      }
    }
  },
  "cells": [
    {
      "cell_type": "code",
      "execution_count": 1,
      "metadata": {
        "colab": {
          "base_uri": "https://localhost:8080/"
        },
        "collapsed": true,
        "id": "Ylbnm__S8LXd",
        "outputId": "8a142c0e-bf44-461a-ab61-8cbcc7daf300"
      },
      "outputs": [
        {
          "output_type": "stream",
          "name": "stdout",
          "text": [
            "Collecting norse\n",
            "  Downloading norse-1.1.0.tar.gz (1.5 MB)\n",
            "\u001b[?25l     \u001b[90m━━━━━━━━━━━━━━━━━━━━━━━━━━━━━━━━━━━━━━━━\u001b[0m \u001b[32m0.0/1.5 MB\u001b[0m \u001b[31m?\u001b[0m eta \u001b[36m-:--:--\u001b[0m\r\u001b[2K     \u001b[91m━━━━━━━━━━━━━━━━━━━━━━━━━━━━━━━━━━\u001b[0m\u001b[91m╸\u001b[0m\u001b[90m━━━━━\u001b[0m \u001b[32m1.3/1.5 MB\u001b[0m \u001b[31m39.9 MB/s\u001b[0m eta \u001b[36m0:00:01\u001b[0m\r\u001b[2K     \u001b[90m━━━━━━━━━━━━━━━━━━━━━━━━━━━━━━━━━━━━━━━━\u001b[0m \u001b[32m1.5/1.5 MB\u001b[0m \u001b[31m26.8 MB/s\u001b[0m eta \u001b[36m0:00:00\u001b[0m\n",
            "\u001b[?25h  Installing build dependencies ... \u001b[?25l\u001b[?25hdone\n",
            "  Getting requirements to build wheel ... \u001b[?25l\u001b[?25hdone\n",
            "  Preparing metadata (pyproject.toml) ... \u001b[?25l\u001b[?25hdone\n",
            "Collecting nir\n",
            "  Downloading nir-1.0.4-py3-none-any.whl.metadata (5.8 kB)\n",
            "Collecting nirtorch\n",
            "  Downloading nirtorch-2.0.2-py3-none-any.whl.metadata (6.4 kB)\n",
            "Requirement already satisfied: torch in /usr/local/lib/python3.11/dist-packages (2.6.0+cu124)\n",
            "Requirement already satisfied: torchvision in /usr/local/lib/python3.11/dist-packages (0.21.0+cu124)\n",
            "Collecting snntorch\n",
            "  Downloading snntorch-0.9.4-py2.py3-none-any.whl.metadata (15 kB)\n",
            "Collecting tonic\n",
            "  Downloading tonic-1.6.0-py3-none-any.whl.metadata (5.4 kB)\n",
            "Requirement already satisfied: matplotlib in /usr/local/lib/python3.11/dist-packages (3.10.0)\n",
            "Requirement already satisfied: tqdm in /usr/local/lib/python3.11/dist-packages (4.67.1)\n",
            "Requirement already satisfied: numpy in /usr/local/lib/python3.11/dist-packages (from norse) (2.0.2)\n",
            "Requirement already satisfied: h5py in /usr/local/lib/python3.11/dist-packages (from nir) (3.13.0)\n",
            "Requirement already satisfied: filelock in /usr/local/lib/python3.11/dist-packages (from torch) (3.18.0)\n",
            "Requirement already satisfied: typing-extensions>=4.10.0 in /usr/local/lib/python3.11/dist-packages (from torch) (4.12.2)\n",
            "Requirement already satisfied: networkx in /usr/local/lib/python3.11/dist-packages (from torch) (3.4.2)\n",
            "Requirement already satisfied: jinja2 in /usr/local/lib/python3.11/dist-packages (from torch) (3.1.6)\n",
            "Requirement already satisfied: fsspec in /usr/local/lib/python3.11/dist-packages (from torch) (2025.3.0)\n",
            "Collecting nvidia-cuda-nvrtc-cu12==12.4.127 (from torch)\n",
            "  Downloading nvidia_cuda_nvrtc_cu12-12.4.127-py3-none-manylinux2014_x86_64.whl.metadata (1.5 kB)\n",
            "Collecting nvidia-cuda-runtime-cu12==12.4.127 (from torch)\n",
            "  Downloading nvidia_cuda_runtime_cu12-12.4.127-py3-none-manylinux2014_x86_64.whl.metadata (1.5 kB)\n",
            "Collecting nvidia-cuda-cupti-cu12==12.4.127 (from torch)\n",
            "  Downloading nvidia_cuda_cupti_cu12-12.4.127-py3-none-manylinux2014_x86_64.whl.metadata (1.6 kB)\n",
            "Collecting nvidia-cudnn-cu12==9.1.0.70 (from torch)\n",
            "  Downloading nvidia_cudnn_cu12-9.1.0.70-py3-none-manylinux2014_x86_64.whl.metadata (1.6 kB)\n",
            "Collecting nvidia-cublas-cu12==12.4.5.8 (from torch)\n",
            "  Downloading nvidia_cublas_cu12-12.4.5.8-py3-none-manylinux2014_x86_64.whl.metadata (1.5 kB)\n",
            "Collecting nvidia-cufft-cu12==11.2.1.3 (from torch)\n",
            "  Downloading nvidia_cufft_cu12-11.2.1.3-py3-none-manylinux2014_x86_64.whl.metadata (1.5 kB)\n",
            "Collecting nvidia-curand-cu12==10.3.5.147 (from torch)\n",
            "  Downloading nvidia_curand_cu12-10.3.5.147-py3-none-manylinux2014_x86_64.whl.metadata (1.5 kB)\n",
            "Collecting nvidia-cusolver-cu12==11.6.1.9 (from torch)\n",
            "  Downloading nvidia_cusolver_cu12-11.6.1.9-py3-none-manylinux2014_x86_64.whl.metadata (1.6 kB)\n",
            "Collecting nvidia-cusparse-cu12==12.3.1.170 (from torch)\n",
            "  Downloading nvidia_cusparse_cu12-12.3.1.170-py3-none-manylinux2014_x86_64.whl.metadata (1.6 kB)\n",
            "Requirement already satisfied: nvidia-cusparselt-cu12==0.6.2 in /usr/local/lib/python3.11/dist-packages (from torch) (0.6.2)\n",
            "Requirement already satisfied: nvidia-nccl-cu12==2.21.5 in /usr/local/lib/python3.11/dist-packages (from torch) (2.21.5)\n",
            "Requirement already satisfied: nvidia-nvtx-cu12==12.4.127 in /usr/local/lib/python3.11/dist-packages (from torch) (12.4.127)\n",
            "Collecting nvidia-nvjitlink-cu12==12.4.127 (from torch)\n",
            "  Downloading nvidia_nvjitlink_cu12-12.4.127-py3-none-manylinux2014_x86_64.whl.metadata (1.5 kB)\n",
            "Requirement already satisfied: triton==3.2.0 in /usr/local/lib/python3.11/dist-packages (from torch) (3.2.0)\n",
            "Requirement already satisfied: sympy==1.13.1 in /usr/local/lib/python3.11/dist-packages (from torch) (1.13.1)\n",
            "Requirement already satisfied: mpmath<1.4,>=1.1.0 in /usr/local/lib/python3.11/dist-packages (from sympy==1.13.1->torch) (1.3.0)\n",
            "Requirement already satisfied: pillow!=8.3.*,>=5.3.0 in /usr/local/lib/python3.11/dist-packages (from torchvision) (11.1.0)\n",
            "Collecting numpy (from norse)\n",
            "  Downloading numpy-1.26.4-cp311-cp311-manylinux_2_17_x86_64.manylinux2014_x86_64.whl.metadata (61 kB)\n",
            "\u001b[2K     \u001b[90m━━━━━━━━━━━━━━━━━━━━━━━━━━━━━━━━━━━━━━━━\u001b[0m \u001b[32m61.0/61.0 kB\u001b[0m \u001b[31m296.3 kB/s\u001b[0m eta \u001b[36m0:00:00\u001b[0m\n",
            "\u001b[?25hCollecting importRosbag>=1.0.4 (from tonic)\n",
            "  Downloading importRosbag-1.0.4-py3-none-any.whl.metadata (4.3 kB)\n",
            "Requirement already satisfied: scipy in /usr/local/lib/python3.11/dist-packages (from tonic) (1.14.1)\n",
            "Requirement already satisfied: librosa in /usr/local/lib/python3.11/dist-packages (from tonic) (0.11.0)\n",
            "Collecting pbr (from tonic)\n",
            "  Downloading pbr-6.1.1-py2.py3-none-any.whl.metadata (3.4 kB)\n",
            "Collecting expelliarmus (from tonic)\n",
            "  Downloading expelliarmus-1.1.12-cp311-cp311-manylinux_2_5_x86_64.manylinux1_x86_64.manylinux_2_17_x86_64.manylinux2014_x86_64.whl.metadata (13 kB)\n",
            "Requirement already satisfied: contourpy>=1.0.1 in /usr/local/lib/python3.11/dist-packages (from matplotlib) (1.3.1)\n",
            "Requirement already satisfied: cycler>=0.10 in /usr/local/lib/python3.11/dist-packages (from matplotlib) (0.12.1)\n",
            "Requirement already satisfied: fonttools>=4.22.0 in /usr/local/lib/python3.11/dist-packages (from matplotlib) (4.56.0)\n",
            "Requirement already satisfied: kiwisolver>=1.3.1 in /usr/local/lib/python3.11/dist-packages (from matplotlib) (1.4.8)\n",
            "Requirement already satisfied: packaging>=20.0 in /usr/local/lib/python3.11/dist-packages (from matplotlib) (24.2)\n",
            "Requirement already satisfied: pyparsing>=2.3.1 in /usr/local/lib/python3.11/dist-packages (from matplotlib) (3.2.1)\n",
            "Requirement already satisfied: python-dateutil>=2.7 in /usr/local/lib/python3.11/dist-packages (from matplotlib) (2.8.2)\n",
            "Requirement already satisfied: setuptools in /usr/local/lib/python3.11/dist-packages (from importRosbag>=1.0.4->tonic) (75.1.0)\n",
            "Requirement already satisfied: six>=1.5 in /usr/local/lib/python3.11/dist-packages (from python-dateutil>=2.7->matplotlib) (1.17.0)\n",
            "Requirement already satisfied: MarkupSafe>=2.0 in /usr/local/lib/python3.11/dist-packages (from jinja2->torch) (3.0.2)\n",
            "Requirement already satisfied: audioread>=2.1.9 in /usr/local/lib/python3.11/dist-packages (from librosa->tonic) (3.0.1)\n",
            "Requirement already satisfied: numba>=0.51.0 in /usr/local/lib/python3.11/dist-packages (from librosa->tonic) (0.60.0)\n",
            "Requirement already satisfied: scikit-learn>=1.1.0 in /usr/local/lib/python3.11/dist-packages (from librosa->tonic) (1.6.1)\n",
            "Requirement already satisfied: joblib>=1.0 in /usr/local/lib/python3.11/dist-packages (from librosa->tonic) (1.4.2)\n",
            "Requirement already satisfied: decorator>=4.3.0 in /usr/local/lib/python3.11/dist-packages (from librosa->tonic) (4.4.2)\n",
            "Requirement already satisfied: soundfile>=0.12.1 in /usr/local/lib/python3.11/dist-packages (from librosa->tonic) (0.13.1)\n",
            "Requirement already satisfied: pooch>=1.1 in /usr/local/lib/python3.11/dist-packages (from librosa->tonic) (1.8.2)\n",
            "Requirement already satisfied: soxr>=0.3.2 in /usr/local/lib/python3.11/dist-packages (from librosa->tonic) (0.5.0.post1)\n",
            "Requirement already satisfied: lazy_loader>=0.1 in /usr/local/lib/python3.11/dist-packages (from librosa->tonic) (0.4)\n",
            "Requirement already satisfied: msgpack>=1.0 in /usr/local/lib/python3.11/dist-packages (from librosa->tonic) (1.1.0)\n",
            "Requirement already satisfied: llvmlite<0.44,>=0.43.0dev0 in /usr/local/lib/python3.11/dist-packages (from numba>=0.51.0->librosa->tonic) (0.43.0)\n",
            "Requirement already satisfied: platformdirs>=2.5.0 in /usr/local/lib/python3.11/dist-packages (from pooch>=1.1->librosa->tonic) (4.3.6)\n",
            "Requirement already satisfied: requests>=2.19.0 in /usr/local/lib/python3.11/dist-packages (from pooch>=1.1->librosa->tonic) (2.32.3)\n",
            "Requirement already satisfied: threadpoolctl>=3.1.0 in /usr/local/lib/python3.11/dist-packages (from scikit-learn>=1.1.0->librosa->tonic) (3.6.0)\n",
            "Requirement already satisfied: cffi>=1.0 in /usr/local/lib/python3.11/dist-packages (from soundfile>=0.12.1->librosa->tonic) (1.17.1)\n",
            "Requirement already satisfied: pycparser in /usr/local/lib/python3.11/dist-packages (from cffi>=1.0->soundfile>=0.12.1->librosa->tonic) (2.22)\n",
            "Requirement already satisfied: charset-normalizer<4,>=2 in /usr/local/lib/python3.11/dist-packages (from requests>=2.19.0->pooch>=1.1->librosa->tonic) (3.4.1)\n",
            "Requirement already satisfied: idna<4,>=2.5 in /usr/local/lib/python3.11/dist-packages (from requests>=2.19.0->pooch>=1.1->librosa->tonic) (3.10)\n",
            "Requirement already satisfied: urllib3<3,>=1.21.1 in /usr/local/lib/python3.11/dist-packages (from requests>=2.19.0->pooch>=1.1->librosa->tonic) (2.3.0)\n",
            "Requirement already satisfied: certifi>=2017.4.17 in /usr/local/lib/python3.11/dist-packages (from requests>=2.19.0->pooch>=1.1->librosa->tonic) (2025.1.31)\n",
            "Downloading nir-1.0.4-py3-none-any.whl (18 kB)\n",
            "Downloading nirtorch-2.0.2-py3-none-any.whl (23 kB)\n",
            "Downloading nvidia_cublas_cu12-12.4.5.8-py3-none-manylinux2014_x86_64.whl (363.4 MB)\n",
            "\u001b[2K   \u001b[90m━━━━━━━━━━━━━━━━━━━━━━━━━━━━━━━━━━━━━━━━\u001b[0m \u001b[32m363.4/363.4 MB\u001b[0m \u001b[31m1.8 MB/s\u001b[0m eta \u001b[36m0:00:00\u001b[0m\n",
            "\u001b[?25hDownloading nvidia_cuda_cupti_cu12-12.4.127-py3-none-manylinux2014_x86_64.whl (13.8 MB)\n",
            "\u001b[2K   \u001b[90m━━━━━━━━━━━━━━━━━━━━━━━━━━━━━━━━━━━━━━━━\u001b[0m \u001b[32m13.8/13.8 MB\u001b[0m \u001b[31m74.7 MB/s\u001b[0m eta \u001b[36m0:00:00\u001b[0m\n",
            "\u001b[?25hDownloading nvidia_cuda_nvrtc_cu12-12.4.127-py3-none-manylinux2014_x86_64.whl (24.6 MB)\n",
            "\u001b[2K   \u001b[90m━━━━━━━━━━━━━━━━━━━━━━━━━━━━━━━━━━━━━━━━\u001b[0m \u001b[32m24.6/24.6 MB\u001b[0m \u001b[31m14.3 MB/s\u001b[0m eta \u001b[36m0:00:00\u001b[0m\n",
            "\u001b[?25hDownloading nvidia_cuda_runtime_cu12-12.4.127-py3-none-manylinux2014_x86_64.whl (883 kB)\n",
            "\u001b[2K   \u001b[90m━━━━━━━━━━━━━━━━━━━━━━━━━━━━━━━━━━━━━━━━\u001b[0m \u001b[32m883.7/883.7 kB\u001b[0m \u001b[31m42.4 MB/s\u001b[0m eta \u001b[36m0:00:00\u001b[0m\n",
            "\u001b[?25hDownloading nvidia_cudnn_cu12-9.1.0.70-py3-none-manylinux2014_x86_64.whl (664.8 MB)\n",
            "\u001b[2K   \u001b[90m━━━━━━━━━━━━━━━━━━━━━━━━━━━━━━━━━━━━━━━━\u001b[0m \u001b[32m664.8/664.8 MB\u001b[0m \u001b[31m2.5 MB/s\u001b[0m eta \u001b[36m0:00:00\u001b[0m\n",
            "\u001b[?25hDownloading nvidia_cufft_cu12-11.2.1.3-py3-none-manylinux2014_x86_64.whl (211.5 MB)\n",
            "\u001b[2K   \u001b[90m━━━━━━━━━━━━━━━━━━━━━━━━━━━━━━━━━━━━━━━━\u001b[0m \u001b[32m211.5/211.5 MB\u001b[0m \u001b[31m5.3 MB/s\u001b[0m eta \u001b[36m0:00:00\u001b[0m\n",
            "\u001b[?25hDownloading nvidia_curand_cu12-10.3.5.147-py3-none-manylinux2014_x86_64.whl (56.3 MB)\n",
            "\u001b[2K   \u001b[90m━━━━━━━━━━━━━━━━━━━━━━━━━━━━━━━━━━━━━━━━\u001b[0m \u001b[32m56.3/56.3 MB\u001b[0m \u001b[31m12.3 MB/s\u001b[0m eta \u001b[36m0:00:00\u001b[0m\n",
            "\u001b[?25hDownloading nvidia_cusolver_cu12-11.6.1.9-py3-none-manylinux2014_x86_64.whl (127.9 MB)\n",
            "\u001b[2K   \u001b[90m━━━━━━━━━━━━━━━━━━━━━━━━━━━━━━━━━━━━━━━━\u001b[0m \u001b[32m127.9/127.9 MB\u001b[0m \u001b[31m7.9 MB/s\u001b[0m eta \u001b[36m0:00:00\u001b[0m\n",
            "\u001b[?25hDownloading nvidia_cusparse_cu12-12.3.1.170-py3-none-manylinux2014_x86_64.whl (207.5 MB)\n",
            "\u001b[2K   \u001b[90m━━━━━━━━━━━━━━━━━━━━━━━━━━━━━━━━━━━━━━━━\u001b[0m \u001b[32m207.5/207.5 MB\u001b[0m \u001b[31m5.6 MB/s\u001b[0m eta \u001b[36m0:00:00\u001b[0m\n",
            "\u001b[?25hDownloading nvidia_nvjitlink_cu12-12.4.127-py3-none-manylinux2014_x86_64.whl (21.1 MB)\n",
            "\u001b[2K   \u001b[90m━━━━━━━━━━━━━━━━━━━━━━━━━━━━━━━━━━━━━━━━\u001b[0m \u001b[32m21.1/21.1 MB\u001b[0m \u001b[31m79.6 MB/s\u001b[0m eta \u001b[36m0:00:00\u001b[0m\n",
            "\u001b[?25hDownloading snntorch-0.9.4-py2.py3-none-any.whl (125 kB)\n",
            "\u001b[2K   \u001b[90m━━━━━━━━━━━━━━━━━━━━━━━━━━━━━━━━━━━━━━━━\u001b[0m \u001b[32m125.6/125.6 kB\u001b[0m \u001b[31m10.2 MB/s\u001b[0m eta \u001b[36m0:00:00\u001b[0m\n",
            "\u001b[?25hDownloading tonic-1.6.0-py3-none-any.whl (106 kB)\n",
            "\u001b[2K   \u001b[90m━━━━━━━━━━━━━━━━━━━━━━━━━━━━━━━━━━━━━━━━\u001b[0m \u001b[32m106.2/106.2 kB\u001b[0m \u001b[31m9.2 MB/s\u001b[0m eta \u001b[36m0:00:00\u001b[0m\n",
            "\u001b[?25hDownloading importRosbag-1.0.4-py3-none-any.whl (28 kB)\n",
            "Downloading numpy-1.26.4-cp311-cp311-manylinux_2_17_x86_64.manylinux2014_x86_64.whl (18.3 MB)\n",
            "\u001b[2K   \u001b[90m━━━━━━━━━━━━━━━━━━━━━━━━━━━━━━━━━━━━━━━━\u001b[0m \u001b[32m18.3/18.3 MB\u001b[0m \u001b[31m75.0 MB/s\u001b[0m eta \u001b[36m0:00:00\u001b[0m\n",
            "\u001b[?25hDownloading expelliarmus-1.1.12-cp311-cp311-manylinux_2_5_x86_64.manylinux1_x86_64.manylinux_2_17_x86_64.manylinux2014_x86_64.whl (50 kB)\n",
            "\u001b[2K   \u001b[90m━━━━━━━━━━━━━━━━━━━━━━━━━━━━━━━━━━━━━━━━\u001b[0m \u001b[32m50.4/50.4 kB\u001b[0m \u001b[31m4.6 MB/s\u001b[0m eta \u001b[36m0:00:00\u001b[0m\n",
            "\u001b[?25hDownloading pbr-6.1.1-py2.py3-none-any.whl (108 kB)\n",
            "\u001b[2K   \u001b[90m━━━━━━━━━━━━━━━━━━━━━━━━━━━━━━━━━━━━━━━━\u001b[0m \u001b[32m109.0/109.0 kB\u001b[0m \u001b[31m10.8 MB/s\u001b[0m eta \u001b[36m0:00:00\u001b[0m\n",
            "\u001b[?25hBuilding wheels for collected packages: norse\n",
            "  Building wheel for norse (pyproject.toml) ... \u001b[?25l\u001b[?25hdone\n",
            "  Created wheel for norse: filename=norse-1.1.0-py3-none-any.whl size=1539056 sha256=444b59e73b0c5cb5845bcfab6bc3e96b4fd8d33dcd3fa743a93f9254da64ae92\n",
            "  Stored in directory: /root/.cache/pip/wheels/2f/aa/7b/73285c582f07c47ad755bcaa0b8e18c13ace00e819e0c87c78\n",
            "Successfully built norse\n",
            "Installing collected packages: snntorch, pbr, nvidia-nvjitlink-cu12, nvidia-curand-cu12, nvidia-cufft-cu12, nvidia-cuda-runtime-cu12, nvidia-cuda-nvrtc-cu12, nvidia-cuda-cupti-cu12, nvidia-cublas-cu12, numpy, nvidia-cusparse-cu12, nvidia-cudnn-cu12, importRosbag, expelliarmus, nvidia-cusolver-cu12, nir, tonic, nirtorch, norse\n",
            "  Attempting uninstall: nvidia-nvjitlink-cu12\n",
            "    Found existing installation: nvidia-nvjitlink-cu12 12.5.82\n",
            "    Uninstalling nvidia-nvjitlink-cu12-12.5.82:\n",
            "      Successfully uninstalled nvidia-nvjitlink-cu12-12.5.82\n",
            "  Attempting uninstall: nvidia-curand-cu12\n",
            "    Found existing installation: nvidia-curand-cu12 10.3.6.82\n",
            "    Uninstalling nvidia-curand-cu12-10.3.6.82:\n",
            "      Successfully uninstalled nvidia-curand-cu12-10.3.6.82\n",
            "  Attempting uninstall: nvidia-cufft-cu12\n",
            "    Found existing installation: nvidia-cufft-cu12 11.2.3.61\n",
            "    Uninstalling nvidia-cufft-cu12-11.2.3.61:\n",
            "      Successfully uninstalled nvidia-cufft-cu12-11.2.3.61\n",
            "  Attempting uninstall: nvidia-cuda-runtime-cu12\n",
            "    Found existing installation: nvidia-cuda-runtime-cu12 12.5.82\n",
            "    Uninstalling nvidia-cuda-runtime-cu12-12.5.82:\n",
            "      Successfully uninstalled nvidia-cuda-runtime-cu12-12.5.82\n",
            "  Attempting uninstall: nvidia-cuda-nvrtc-cu12\n",
            "    Found existing installation: nvidia-cuda-nvrtc-cu12 12.5.82\n",
            "    Uninstalling nvidia-cuda-nvrtc-cu12-12.5.82:\n",
            "      Successfully uninstalled nvidia-cuda-nvrtc-cu12-12.5.82\n",
            "  Attempting uninstall: nvidia-cuda-cupti-cu12\n",
            "    Found existing installation: nvidia-cuda-cupti-cu12 12.5.82\n",
            "    Uninstalling nvidia-cuda-cupti-cu12-12.5.82:\n",
            "      Successfully uninstalled nvidia-cuda-cupti-cu12-12.5.82\n",
            "  Attempting uninstall: nvidia-cublas-cu12\n",
            "    Found existing installation: nvidia-cublas-cu12 12.5.3.2\n",
            "    Uninstalling nvidia-cublas-cu12-12.5.3.2:\n",
            "      Successfully uninstalled nvidia-cublas-cu12-12.5.3.2\n",
            "  Attempting uninstall: numpy\n",
            "    Found existing installation: numpy 2.0.2\n",
            "    Uninstalling numpy-2.0.2:\n",
            "      Successfully uninstalled numpy-2.0.2\n",
            "  Attempting uninstall: nvidia-cusparse-cu12\n",
            "    Found existing installation: nvidia-cusparse-cu12 12.5.1.3\n",
            "    Uninstalling nvidia-cusparse-cu12-12.5.1.3:\n",
            "      Successfully uninstalled nvidia-cusparse-cu12-12.5.1.3\n",
            "  Attempting uninstall: nvidia-cudnn-cu12\n",
            "    Found existing installation: nvidia-cudnn-cu12 9.3.0.75\n",
            "    Uninstalling nvidia-cudnn-cu12-9.3.0.75:\n",
            "      Successfully uninstalled nvidia-cudnn-cu12-9.3.0.75\n",
            "  Attempting uninstall: nvidia-cusolver-cu12\n",
            "    Found existing installation: nvidia-cusolver-cu12 11.6.3.83\n",
            "    Uninstalling nvidia-cusolver-cu12-11.6.3.83:\n",
            "      Successfully uninstalled nvidia-cusolver-cu12-11.6.3.83\n",
            "Successfully installed expelliarmus-1.1.12 importRosbag-1.0.4 nir-1.0.4 nirtorch-2.0.2 norse-1.1.0 numpy-1.26.4 nvidia-cublas-cu12-12.4.5.8 nvidia-cuda-cupti-cu12-12.4.127 nvidia-cuda-nvrtc-cu12-12.4.127 nvidia-cuda-runtime-cu12-12.4.127 nvidia-cudnn-cu12-9.1.0.70 nvidia-cufft-cu12-11.2.1.3 nvidia-curand-cu12-10.3.5.147 nvidia-cusolver-cu12-11.6.1.9 nvidia-cusparse-cu12-12.3.1.170 nvidia-nvjitlink-cu12-12.4.127 pbr-6.1.1 snntorch-0.9.4 tonic-1.6.0\n"
          ]
        }
      ],
      "source": [
        "!pip install norse nir nirtorch torch torchvision snntorch tonic matplotlib tqdm"
      ]
    },
    {
      "cell_type": "markdown",
      "source": [
        "# CAUTION\n",
        "If you are using google collab restart kernel session due to numpy error\n",
        "![image.png](data:image/png;base64,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)"
      ],
      "metadata": {
        "id": "zRIYtdRGC8jb"
      }
    },
    {
      "cell_type": "markdown",
      "source": [
        "##Norse Nmnist Classifier"
      ],
      "metadata": {
        "id": "xsWBWrtbF5gg"
      }
    },
    {
      "cell_type": "code",
      "source": [
        "import torch\n",
        "import norse\n",
        "\n",
        "\n",
        "model = norse.torch.SequentialState(\n",
        "    norse.torch.LIFBoxCell(),\n",
        "    torch.nn.Conv2d(2, 8, 3),\n",
        "    torch.nn.MaxPool2d(2),\n",
        "    norse.torch.LIFBoxCell(),\n",
        "    torch.nn.Conv2d(8, 16, 3),\n",
        "    torch.nn.MaxPool2d(2),\n",
        "    torch.nn.Flatten(1),\n",
        "    torch.nn.Linear(784,10)\n",
        ")\n",
        "\n",
        "model(torch.empty(1, 2, 34, 34))[0].shape\n"
      ],
      "metadata": {
        "colab": {
          "base_uri": "https://localhost:8080/"
        },
        "id": "3nq-qFK3F5UI",
        "outputId": "15fe9e7b-8312-4bc7-8488-4aa27db872e5"
      },
      "execution_count": 1,
      "outputs": [
        {
          "output_type": "execute_result",
          "data": {
            "text/plain": [
              "torch.Size([1, 10])"
            ]
          },
          "metadata": {},
          "execution_count": 1
        }
      ]
    },
    {
      "cell_type": "code",
      "source": [
        "nir_graph = norse.torch.to_nir(model, torch.empty(1, 2, 34, 34))\n",
        "nir_graph.nodes.keys()"
      ],
      "metadata": {
        "colab": {
          "base_uri": "https://localhost:8080/"
        },
        "id": "GSTqKP_BGZHT",
        "outputId": "903ebb6a-2253-4590-de05-cbecebf10f9a"
      },
      "execution_count": 2,
      "outputs": [
        {
          "output_type": "execute_result",
          "data": {
            "text/plain": [
              "dict_keys(['input', '0', '1', '2', '3', '4', '5', '6', '7', 'output'])"
            ]
          },
          "metadata": {},
          "execution_count": 2
        }
      ]
    },
    {
      "cell_type": "code",
      "source": [
        "import tonic\n",
        "from torch.utils.data import DataLoader\n",
        "from tqdm import tqdm\n",
        "\n",
        "to_frame = tonic.transforms.ToFrame(\n",
        "    sensor_size=tonic.datasets.NMNIST.sensor_size,\n",
        "    time_window=1e3\n",
        ")\n",
        "\n",
        "train_dataset = tonic.datasets.NMNIST(\n",
        "    save_to=\".\",\n",
        "    train=True,\n",
        "    transform=to_frame\n",
        ")\n",
        "\n",
        "test_dataset = tonic.datasets.NMNIST(\n",
        "    save_to=\".\",\n",
        "    train=False,\n",
        "    transform=to_frame,\n",
        ")\n",
        "\n",
        "# DataLoaders\n",
        "BATCH_SIZE = 10\n",
        "train_loader = DataLoader(train_dataset, batch_size=BATCH_SIZE,\n",
        "                          shuffle=True,collate_fn=tonic.collation.PadTensors())\n",
        "\n",
        "test_loader = DataLoader(test_dataset, batch_size=BATCH_SIZE, collate_fn=tonic.collation.PadTensors())"
      ],
      "metadata": {
        "colab": {
          "base_uri": "https://localhost:8080/",
          "height": 170,
          "referenced_widgets": [
            "4f49415d0bd940829d9704b4c836ef3f",
            "abdd783cc45a4cbe99fa466126b1a233",
            "f37d320d2a094f40ae3a45efbe874175",
            "d86a3609aaa64a88a3a54d2408ef98d2",
            "56b44232ea154085ac9fe68894aa633e",
            "e3eec4eb2df8458bb53c2cf3ed2bf581",
            "2fd7e5606bc94051a1c58cb12f6abde9",
            "92ee382018844d3584cceba29a30bfed",
            "fe162c2af6e444a3979e2d42f5095fa5",
            "25868b73f10e4b849511dcc194739965",
            "aa9bd8f741cd498ba6d68150b216dd3b",
            "57b55730196c44c695f80732713dd589",
            "0e904bc32d634393820aa90774803b98",
            "02ddcbe39b834adabf9d376f599265d9",
            "da6a23194b0c425899b8a80889e32ea3",
            "1bfa28686341435ea36c3348c8a9b133",
            "896733448d404593bf5e3ece98f512b9",
            "1bd94cb5bcf54e808063aeba3abe214d",
            "5c885c9dd8764cc5a3228453a2caf594",
            "78911864200a453ca43041729c118827",
            "ee2c25630e5a4b63b8b07fe85f39ddb3",
            "dc9c0184b45b4916856970363bc67ff4"
          ]
        },
        "id": "iUwbqlpxGZ4U",
        "outputId": "6b27a6c0-e0bd-4254-c223-e49825c24425"
      },
      "execution_count": 3,
      "outputs": [
        {
          "output_type": "stream",
          "name": "stdout",
          "text": [
            "Downloading https://prod-dcd-datasets-public-files-eu-west-1.s3.eu-west-1.amazonaws.com/1afc103f-8799-464a-a214-81bb9b1f9337 to ./NMNIST/train.zip\n"
          ]
        },
        {
          "output_type": "display_data",
          "data": {
            "text/plain": [
              "  0%|          | 0/1011893601 [00:00<?, ?it/s]"
            ],
            "application/vnd.jupyter.widget-view+json": {
              "version_major": 2,
              "version_minor": 0,
              "model_id": "4f49415d0bd940829d9704b4c836ef3f"
            }
          },
          "metadata": {}
        },
        {
          "output_type": "stream",
          "name": "stdout",
          "text": [
            "Extracting ./NMNIST/train.zip to ./NMNIST\n",
            "Downloading https://prod-dcd-datasets-public-files-eu-west-1.s3.eu-west-1.amazonaws.com/a99d0fee-a95b-4231-ad22-988fdb0a2411 to ./NMNIST/test.zip\n"
          ]
        },
        {
          "output_type": "display_data",
          "data": {
            "text/plain": [
              "  0%|          | 0/169674850 [00:00<?, ?it/s]"
            ],
            "application/vnd.jupyter.widget-view+json": {
              "version_major": 2,
              "version_minor": 0,
              "model_id": "57b55730196c44c695f80732713dd589"
            }
          },
          "metadata": {}
        },
        {
          "output_type": "stream",
          "name": "stdout",
          "text": [
            "Extracting ./NMNIST/test.zip to ./NMNIST\n"
          ]
        }
      ]
    },
    {
      "cell_type": "code",
      "source": [
        "train_dataset[0][0].shape"
      ],
      "metadata": {
        "colab": {
          "base_uri": "https://localhost:8080/"
        },
        "id": "ilCnr5glHycu",
        "outputId": "18d0f43a-aaf5-4ae8-a41e-1207148874df"
      },
      "execution_count": 4,
      "outputs": [
        {
          "output_type": "execute_result",
          "data": {
            "text/plain": [
              "(304, 2, 34, 34)"
            ]
          },
          "metadata": {},
          "execution_count": 4
        }
      ]
    },
    {
      "cell_type": "code",
      "source": [
        "if torch.cuda.is_available():\n",
        "    device = torch.device(\"cuda\")\n",
        "    print(\"CUDA is available. Using GPU.\")"
      ],
      "metadata": {
        "colab": {
          "base_uri": "https://localhost:8080/"
        },
        "id": "OxXsqLkhMWEC",
        "outputId": "fb7782be-a329-4b13-dd33-399e8c14610a"
      },
      "execution_count": 5,
      "outputs": [
        {
          "output_type": "stream",
          "name": "stdout",
          "text": [
            "CUDA is available. Using GPU.\n"
          ]
        }
      ]
    },
    {
      "cell_type": "code",
      "source": [
        "model.to(device)"
      ],
      "metadata": {
        "colab": {
          "base_uri": "https://localhost:8080/"
        },
        "id": "Pv2jgWZMFyoo",
        "outputId": "229d120d-45c1-4da5-9169-968f8f2fa028"
      },
      "execution_count": 7,
      "outputs": [
        {
          "output_type": "execute_result",
          "data": {
            "text/plain": [
              "SequentialState(\n",
              "  (0): LIFBoxCell(p=LIFBoxParameters(tau_mem_inv=tensor(100.), v_leak=tensor(0.), v_th=tensor(1.), v_reset=tensor(0.), method='super', alpha=tensor(100.), reset_method=<function reset_value at 0x7ca64a548720>), dt=0.001)\n",
              "  (1): Conv2d(2, 8, kernel_size=(3, 3), stride=(1, 1))\n",
              "  (2): MaxPool2d(kernel_size=2, stride=2, padding=0, dilation=1, ceil_mode=False)\n",
              "  (3): LIFBoxCell(p=LIFBoxParameters(tau_mem_inv=tensor(100.), v_leak=tensor(0.), v_th=tensor(1.), v_reset=tensor(0.), method='super', alpha=tensor(100.), reset_method=<function reset_value at 0x7ca64a548720>), dt=0.001)\n",
              "  (4): Conv2d(8, 16, kernel_size=(3, 3), stride=(1, 1))\n",
              "  (5): MaxPool2d(kernel_size=2, stride=2, padding=0, dilation=1, ceil_mode=False)\n",
              "  (6): Flatten(start_dim=1, end_dim=-1)\n",
              "  (7): Linear(in_features=784, out_features=10, bias=True)\n",
              ")"
            ]
          },
          "metadata": {},
          "execution_count": 7
        }
      ]
    },
    {
      "cell_type": "code",
      "source": [
        "def train(model, train_loader, epochs=2):\n",
        "    optimizer = torch.optim.Adam(model.parameters())\n",
        "    criterion = torch.nn.CrossEntropyLoss()\n",
        "\n",
        "    for epoch in range(epochs):\n",
        "        model.train()\n",
        "        running_loss = 0.0\n",
        "        for data, targets in tqdm(train_loader):\n",
        "            data = data.to(device)\n",
        "            targets = targets.to(device)\n",
        "\n",
        "            optimizer.zero_grad()\n",
        "\n",
        "            # Reshape data: (batch_size, time_steps, channels, height, width) -> (batch_size, channels, height, width) caution!!!\n",
        "            data = data.mean(dim=1)\n",
        "\n",
        "            # Forward\n",
        "            outputs, _ = model(data)\n",
        "            loss = criterion(outputs, targets)\n",
        "\n",
        "            # Backward\n",
        "            loss.backward()\n",
        "            optimizer.step()\n",
        "\n",
        "            running_loss += loss.item()\n",
        "\n",
        "        print(f\"Epoch {epoch + 1}, Loss: {running_loss / len(train_loader)}\")\n",
        "\n",
        "# Train the model\n",
        "train(model, train_loader, epochs=3)"
      ],
      "metadata": {
        "colab": {
          "base_uri": "https://localhost:8080/"
        },
        "id": "8-nqMKAkGwfV",
        "outputId": "39c9d704-08a9-4267-ac69-bf8e862a9b1a"
      },
      "execution_count": 9,
      "outputs": [
        {
          "output_type": "stream",
          "name": "stderr",
          "text": [
            "100%|██████████| 6000/6000 [05:30<00:00, 18.17it/s]\n"
          ]
        },
        {
          "output_type": "stream",
          "name": "stdout",
          "text": [
            "Epoch 1, Loss: 2.3023624125321707\n"
          ]
        },
        {
          "output_type": "stream",
          "name": "stderr",
          "text": [
            "100%|██████████| 6000/6000 [05:32<00:00, 18.02it/s]\n"
          ]
        },
        {
          "output_type": "stream",
          "name": "stdout",
          "text": [
            "Epoch 2, Loss: 2.302494749903679\n"
          ]
        },
        {
          "output_type": "stream",
          "name": "stderr",
          "text": [
            "100%|██████████| 6000/6000 [05:30<00:00, 18.17it/s]"
          ]
        },
        {
          "output_type": "stream",
          "name": "stdout",
          "text": [
            "Epoch 3, Loss: 2.3023122259378432\n"
          ]
        },
        {
          "output_type": "stream",
          "name": "stderr",
          "text": [
            "\n"
          ]
        }
      ]
    },
    {
      "cell_type": "markdown",
      "source": [
        "#Model test dataset\n"
      ],
      "metadata": {
        "id": "0f2m9HCKMtc7"
      }
    },
    {
      "cell_type": "code",
      "source": [
        "!pip install scikit-learn"
      ],
      "metadata": {
        "colab": {
          "base_uri": "https://localhost:8080/"
        },
        "id": "czhrRUX2MzC6",
        "outputId": "38325d81-c609-4239-eec9-1a0ff7f29af4"
      },
      "execution_count": 13,
      "outputs": [
        {
          "output_type": "stream",
          "name": "stdout",
          "text": [
            "Requirement already satisfied: scikit-learn in /usr/local/lib/python3.11/dist-packages (1.6.1)\n",
            "Requirement already satisfied: numpy>=1.19.5 in /usr/local/lib/python3.11/dist-packages (from scikit-learn) (1.26.4)\n",
            "Requirement already satisfied: scipy>=1.6.0 in /usr/local/lib/python3.11/dist-packages (from scikit-learn) (1.14.1)\n",
            "Requirement already satisfied: joblib>=1.2.0 in /usr/local/lib/python3.11/dist-packages (from scikit-learn) (1.4.2)\n",
            "Requirement already satisfied: threadpoolctl>=3.1.0 in /usr/local/lib/python3.11/dist-packages (from scikit-learn) (3.6.0)\n"
          ]
        }
      ]
    },
    {
      "cell_type": "code",
      "source": [
        "from sklearn.metrics import classification_report\n",
        "\n",
        "def test(model, test_loader):\n",
        "    model.eval()\n",
        "    criterion = torch.nn.CrossEntropyLoss()\n",
        "    total_loss = 0.0\n",
        "    correct = 0\n",
        "    total = 0\n",
        "    all_targets = []\n",
        "    all_predictions = []\n",
        "\n",
        "    with torch.no_grad():\n",
        "        for data, targets in tqdm(test_loader):\n",
        "            data = data.to(device)\n",
        "            targets = targets.to(device)\n",
        "\n",
        "            data = data.mean(dim=1)\n",
        "            outputs, _ = model(data)\n",
        "            loss = criterion(outputs, targets)\n",
        "\n",
        "            total_loss += loss.item()\n",
        "            _, predicted = torch.max(outputs, 1)\n",
        "            correct += (predicted == targets).sum().item()\n",
        "            total += targets.size(0)\n",
        "\n",
        "            all_targets.extend(targets.cpu().numpy())\n",
        "            all_predictions.extend(predicted.cpu().numpy())\n",
        "\n",
        "    # Print test results\n",
        "    print(f\"Test Loss: {total_loss / len(test_loader)}\")\n",
        "    print(f\"Test Accuracy: {100 * correct / total:.2f}%\")\n",
        "    print(classification_report(all_targets, all_predictions))\n",
        "\n",
        "test(model, test_loader)"
      ],
      "metadata": {
        "colab": {
          "base_uri": "https://localhost:8080/"
        },
        "id": "-LB5F9yWMxXG",
        "outputId": "920f5730-859b-46f3-d583-9ea4a0bbe95a"
      },
      "execution_count": 17,
      "outputs": [
        {
          "output_type": "stream",
          "name": "stderr",
          "text": [
            "100%|██████████| 1000/1000 [00:58<00:00, 17.21it/s]\n"
          ]
        },
        {
          "output_type": "stream",
          "name": "stdout",
          "text": [
            "Test Loss: 2.302647028684616\n",
            "Test Accuracy: 10.28%\n",
            "              precision    recall  f1-score   support\n",
            "\n",
            "           0       0.00      0.00      0.00       980\n",
            "           1       0.00      0.00      0.00      1135\n",
            "           2       0.00      0.00      0.00      1032\n",
            "           3       0.00      0.00      0.00      1010\n",
            "           4       0.00      0.00      0.00       982\n",
            "           5       0.00      0.00      0.00       892\n",
            "           6       0.00      0.00      0.00       958\n",
            "           7       0.10      1.00      0.19      1028\n",
            "           8       0.00      0.00      0.00       974\n",
            "           9       0.00      0.00      0.00      1009\n",
            "\n",
            "    accuracy                           0.10     10000\n",
            "   macro avg       0.01      0.10      0.02     10000\n",
            "weighted avg       0.01      0.10      0.02     10000\n",
            "\n"
          ]
        },
        {
          "output_type": "stream",
          "name": "stderr",
          "text": [
            "/usr/local/lib/python3.11/dist-packages/sklearn/metrics/_classification.py:1565: UndefinedMetricWarning: Precision is ill-defined and being set to 0.0 in labels with no predicted samples. Use `zero_division` parameter to control this behavior.\n",
            "  _warn_prf(average, modifier, f\"{metric.capitalize()} is\", len(result))\n",
            "/usr/local/lib/python3.11/dist-packages/sklearn/metrics/_classification.py:1565: UndefinedMetricWarning: Precision is ill-defined and being set to 0.0 in labels with no predicted samples. Use `zero_division` parameter to control this behavior.\n",
            "  _warn_prf(average, modifier, f\"{metric.capitalize()} is\", len(result))\n",
            "/usr/local/lib/python3.11/dist-packages/sklearn/metrics/_classification.py:1565: UndefinedMetricWarning: Precision is ill-defined and being set to 0.0 in labels with no predicted samples. Use `zero_division` parameter to control this behavior.\n",
            "  _warn_prf(average, modifier, f\"{metric.capitalize()} is\", len(result))\n"
          ]
        }
      ]
    },
    {
      "cell_type": "code",
      "source": [
        "nir_model = norse.torch.to_nir(model, torch.empty(1 ,2, 34, 34).to(device))"
      ],
      "metadata": {
        "id": "S8N_Ko1HL7ho"
      },
      "execution_count": 29,
      "outputs": []
    },
    {
      "cell_type": "code",
      "source": [
        "import nir\n",
        "\n",
        "nir.write(\"nir_model.nir\", nir_model)"
      ],
      "metadata": {
        "colab": {
          "base_uri": "https://localhost:8080/",
          "height": 321
        },
        "id": "R2oOmWiIN_wC",
        "outputId": "88b1e031-ddc2-4098-a06c-cb1634d84e74"
      },
      "execution_count": 27,
      "outputs": [
        {
          "output_type": "error",
          "ename": "AttributeError",
          "evalue": "'NoneType' object has no attribute 'to_dict'",
          "traceback": [
            "\u001b[0;31m---------------------------------------------------------------------------\u001b[0m",
            "\u001b[0;31mAttributeError\u001b[0m                            Traceback (most recent call last)",
            "\u001b[0;32m<ipython-input-27-dd3362b3b928>\u001b[0m in \u001b[0;36m<cell line: 0>\u001b[0;34m()\u001b[0m\n\u001b[1;32m      1\u001b[0m \u001b[0;32mimport\u001b[0m \u001b[0mnir\u001b[0m\u001b[0;34m\u001b[0m\u001b[0;34m\u001b[0m\u001b[0m\n\u001b[1;32m      2\u001b[0m \u001b[0;34m\u001b[0m\u001b[0m\n\u001b[0;32m----> 3\u001b[0;31m \u001b[0mnir\u001b[0m\u001b[0;34m.\u001b[0m\u001b[0mwrite\u001b[0m\u001b[0;34m(\u001b[0m\u001b[0;34m\"nir_model.nir\"\u001b[0m\u001b[0;34m,\u001b[0m \u001b[0mnir_model\u001b[0m\u001b[0;34m)\u001b[0m\u001b[0;34m\u001b[0m\u001b[0;34m\u001b[0m\u001b[0m\n\u001b[0m",
            "\u001b[0;32m/usr/local/lib/python3.11/dist-packages/nir/serialization.py\u001b[0m in \u001b[0;36mwrite\u001b[0;34m(filename, graph)\u001b[0m\n\u001b[1;32m    182\u001b[0m         \u001b[0mf\u001b[0m\u001b[0;34m.\u001b[0m\u001b[0mcreate_dataset\u001b[0m\u001b[0;34m(\u001b[0m\u001b[0;34m\"version\"\u001b[0m\u001b[0;34m,\u001b[0m \u001b[0mdata\u001b[0m\u001b[0;34m=\u001b[0m\u001b[0mnir\u001b[0m\u001b[0;34m.\u001b[0m\u001b[0mversion\u001b[0m\u001b[0;34m)\u001b[0m\u001b[0;34m\u001b[0m\u001b[0;34m\u001b[0m\u001b[0m\n\u001b[1;32m    183\u001b[0m         \u001b[0mnode_group\u001b[0m \u001b[0;34m=\u001b[0m \u001b[0mf\u001b[0m\u001b[0;34m.\u001b[0m\u001b[0mcreate_group\u001b[0m\u001b[0;34m(\u001b[0m\u001b[0;34m\"node\"\u001b[0m\u001b[0;34m)\u001b[0m\u001b[0;34m\u001b[0m\u001b[0;34m\u001b[0m\u001b[0m\n\u001b[0;32m--> 184\u001b[0;31m         \u001b[0mwrite_recursive\u001b[0m\u001b[0;34m(\u001b[0m\u001b[0mnode_group\u001b[0m\u001b[0;34m,\u001b[0m \u001b[0mgraph\u001b[0m\u001b[0;34m.\u001b[0m\u001b[0mto_dict\u001b[0m\u001b[0;34m(\u001b[0m\u001b[0;34m)\u001b[0m\u001b[0;34m)\u001b[0m\u001b[0;34m\u001b[0m\u001b[0;34m\u001b[0m\u001b[0m\n\u001b[0m",
            "\u001b[0;32m/usr/local/lib/python3.11/dist-packages/nir/ir/graph.py\u001b[0m in \u001b[0;36mto_dict\u001b[0;34m(self)\u001b[0m\n\u001b[1;32m    102\u001b[0m     \u001b[0;32mdef\u001b[0m \u001b[0mto_dict\u001b[0m\u001b[0;34m(\u001b[0m\u001b[0mself\u001b[0m\u001b[0;34m)\u001b[0m \u001b[0;34m->\u001b[0m \u001b[0mDict\u001b[0m\u001b[0;34m[\u001b[0m\u001b[0mstr\u001b[0m\u001b[0;34m,\u001b[0m \u001b[0mAny\u001b[0m\u001b[0;34m]\u001b[0m\u001b[0;34m:\u001b[0m\u001b[0;34m\u001b[0m\u001b[0;34m\u001b[0m\u001b[0m\n\u001b[1;32m    103\u001b[0m         \u001b[0mret\u001b[0m \u001b[0;34m=\u001b[0m \u001b[0msuper\u001b[0m\u001b[0;34m(\u001b[0m\u001b[0;34m)\u001b[0m\u001b[0;34m.\u001b[0m\u001b[0mto_dict\u001b[0m\u001b[0;34m(\u001b[0m\u001b[0;34m)\u001b[0m\u001b[0;34m\u001b[0m\u001b[0;34m\u001b[0m\u001b[0m\n\u001b[0;32m--> 104\u001b[0;31m         \u001b[0mret\u001b[0m\u001b[0;34m[\u001b[0m\u001b[0;34m\"nodes\"\u001b[0m\u001b[0;34m]\u001b[0m \u001b[0;34m=\u001b[0m \u001b[0;34m{\u001b[0m\u001b[0mk\u001b[0m\u001b[0;34m:\u001b[0m \u001b[0mn\u001b[0m\u001b[0;34m.\u001b[0m\u001b[0mto_dict\u001b[0m\u001b[0;34m(\u001b[0m\u001b[0;34m)\u001b[0m \u001b[0;32mfor\u001b[0m \u001b[0mk\u001b[0m\u001b[0;34m,\u001b[0m \u001b[0mn\u001b[0m \u001b[0;32min\u001b[0m \u001b[0mself\u001b[0m\u001b[0;34m.\u001b[0m\u001b[0mnodes\u001b[0m\u001b[0;34m.\u001b[0m\u001b[0mitems\u001b[0m\u001b[0;34m(\u001b[0m\u001b[0;34m)\u001b[0m\u001b[0;34m}\u001b[0m\u001b[0;34m\u001b[0m\u001b[0;34m\u001b[0m\u001b[0m\n\u001b[0m\u001b[1;32m    105\u001b[0m         \u001b[0;32mreturn\u001b[0m \u001b[0mret\u001b[0m\u001b[0;34m\u001b[0m\u001b[0;34m\u001b[0m\u001b[0m\n\u001b[1;32m    106\u001b[0m \u001b[0;34m\u001b[0m\u001b[0m\n",
            "\u001b[0;32m/usr/local/lib/python3.11/dist-packages/nir/ir/graph.py\u001b[0m in \u001b[0;36m<dictcomp>\u001b[0;34m(.0)\u001b[0m\n\u001b[1;32m    102\u001b[0m     \u001b[0;32mdef\u001b[0m \u001b[0mto_dict\u001b[0m\u001b[0;34m(\u001b[0m\u001b[0mself\u001b[0m\u001b[0;34m)\u001b[0m \u001b[0;34m->\u001b[0m \u001b[0mDict\u001b[0m\u001b[0;34m[\u001b[0m\u001b[0mstr\u001b[0m\u001b[0;34m,\u001b[0m \u001b[0mAny\u001b[0m\u001b[0;34m]\u001b[0m\u001b[0;34m:\u001b[0m\u001b[0;34m\u001b[0m\u001b[0;34m\u001b[0m\u001b[0m\n\u001b[1;32m    103\u001b[0m         \u001b[0mret\u001b[0m \u001b[0;34m=\u001b[0m \u001b[0msuper\u001b[0m\u001b[0;34m(\u001b[0m\u001b[0;34m)\u001b[0m\u001b[0;34m.\u001b[0m\u001b[0mto_dict\u001b[0m\u001b[0;34m(\u001b[0m\u001b[0;34m)\u001b[0m\u001b[0;34m\u001b[0m\u001b[0;34m\u001b[0m\u001b[0m\n\u001b[0;32m--> 104\u001b[0;31m         \u001b[0mret\u001b[0m\u001b[0;34m[\u001b[0m\u001b[0;34m\"nodes\"\u001b[0m\u001b[0;34m]\u001b[0m \u001b[0;34m=\u001b[0m \u001b[0;34m{\u001b[0m\u001b[0mk\u001b[0m\u001b[0;34m:\u001b[0m \u001b[0mn\u001b[0m\u001b[0;34m.\u001b[0m\u001b[0mto_dict\u001b[0m\u001b[0;34m(\u001b[0m\u001b[0;34m)\u001b[0m \u001b[0;32mfor\u001b[0m \u001b[0mk\u001b[0m\u001b[0;34m,\u001b[0m \u001b[0mn\u001b[0m \u001b[0;32min\u001b[0m \u001b[0mself\u001b[0m\u001b[0;34m.\u001b[0m\u001b[0mnodes\u001b[0m\u001b[0;34m.\u001b[0m\u001b[0mitems\u001b[0m\u001b[0;34m(\u001b[0m\u001b[0;34m)\u001b[0m\u001b[0;34m}\u001b[0m\u001b[0;34m\u001b[0m\u001b[0;34m\u001b[0m\u001b[0m\n\u001b[0m\u001b[1;32m    105\u001b[0m         \u001b[0;32mreturn\u001b[0m \u001b[0mret\u001b[0m\u001b[0;34m\u001b[0m\u001b[0;34m\u001b[0m\u001b[0m\n\u001b[1;32m    106\u001b[0m \u001b[0;34m\u001b[0m\u001b[0m\n",
            "\u001b[0;31mAttributeError\u001b[0m: 'NoneType' object has no attribute 'to_dict'"
          ]
        }
      ]
    },
    {
      "cell_type": "markdown",
      "source": [
        "# Testing on SnnTorch"
      ],
      "metadata": {
        "id": "_QnmjIzXPlZP"
      }
    },
    {
      "cell_type": "code",
      "source": [
        "import snntorch as snn\n",
        "\n",
        "# Load the NIR model from file\n",
        "nir_model = nir.read(\"nir_model.nir\")\n",
        "\n",
        "# Reconstruct the model in snnTorch\n",
        "def reconstruct_model_from_nir(nir_model):\n",
        "    layers = []\n",
        "    for node in nir_model.nodes:\n",
        "        if isinstance(node, nir.LIF):\n",
        "            # Reconstruct LIF layer\n",
        "            layers.append(\n",
        "                snn.Leaky(\n",
        "                    beta=node.tau_mem_inv,  # Inverse time constant\n",
        "                    threshold=node.v_threshold,  # Threshold voltage\n",
        "                    reset_mechanism=\"subtract\",  # Reset mechanism\n",
        "                )\n",
        "            )\n",
        "        elif isinstance(node, nir.Affine):\n",
        "            # Reconstruct Linear layer\n",
        "            layers.append(\n",
        "                torch.nn.Linear(\n",
        "                    in_features=node.weight.shape[1],\n",
        "                    out_features=node.weight.shape[0],\n",
        "                )\n",
        "            )\n",
        "            # Set weights and biases\n",
        "            layers[-1].weight.data = torch.tensor(node.weight)\n",
        "            layers[-1].bias.data = torch.tensor(node.bias)\n",
        "        elif isinstance(node, nir.Conv2d):\n",
        "            # Reconstruct Conv2d layer\n",
        "            layers.append(\n",
        "                torch.nn.Conv2d(\n",
        "                    in_channels=node.weight.shape[1],\n",
        "                    out_channels=node.weight.shape[0],\n",
        "                    kernel_size=node.kernel_size,\n",
        "                    stride=node.stride,\n",
        "                    padding=node.padding,\n",
        "                )\n",
        "            )\n",
        "            # Set weights and biases\n",
        "            layers[-1].weight.data = torch.tensor(node.weight)\n",
        "            layers[-1].bias.data = torch.tensor(node.bias)\n",
        "        else:\n",
        "            raise ValueError(f\"Unsupported NIR node type: {type(node)}\")\n",
        "\n",
        "    return torch.nn.Sequential(*layers)\n",
        "\n",
        "# Reconstruct the model\n",
        "model = reconstruct_model_from_nir(nir_model)\n",
        "print(model)"
      ],
      "metadata": {
        "colab": {
          "base_uri": "https://localhost:8080/",
          "height": 315
        },
        "id": "62SLFMKUPanZ",
        "outputId": "68c70f8b-cd29-487f-b2e8-62d8de23c6ea"
      },
      "execution_count": 30,
      "outputs": [
        {
          "output_type": "error",
          "ename": "ValueError",
          "evalue": "Unsupported NIR node type: <class 'str'>",
          "traceback": [
            "\u001b[0;31m---------------------------------------------------------------------------\u001b[0m",
            "\u001b[0;31mValueError\u001b[0m                                Traceback (most recent call last)",
            "\u001b[0;32m<ipython-input-30-840f59af9fcd>\u001b[0m in \u001b[0;36m<cell line: 0>\u001b[0;34m()\u001b[0m\n\u001b[1;32m     47\u001b[0m \u001b[0;34m\u001b[0m\u001b[0m\n\u001b[1;32m     48\u001b[0m \u001b[0;31m# Reconstruct the model\u001b[0m\u001b[0;34m\u001b[0m\u001b[0;34m\u001b[0m\u001b[0m\n\u001b[0;32m---> 49\u001b[0;31m \u001b[0mmodel\u001b[0m \u001b[0;34m=\u001b[0m \u001b[0mreconstruct_model_from_nir\u001b[0m\u001b[0;34m(\u001b[0m\u001b[0mnir_model\u001b[0m\u001b[0;34m)\u001b[0m\u001b[0;34m\u001b[0m\u001b[0;34m\u001b[0m\u001b[0m\n\u001b[0m\u001b[1;32m     50\u001b[0m \u001b[0mprint\u001b[0m\u001b[0;34m(\u001b[0m\u001b[0mmodel\u001b[0m\u001b[0;34m)\u001b[0m\u001b[0;34m\u001b[0m\u001b[0;34m\u001b[0m\u001b[0m\n",
            "\u001b[0;32m<ipython-input-30-840f59af9fcd>\u001b[0m in \u001b[0;36mreconstruct_model_from_nir\u001b[0;34m(nir_model)\u001b[0m\n\u001b[1;32m     42\u001b[0m             \u001b[0mlayers\u001b[0m\u001b[0;34m[\u001b[0m\u001b[0;34m-\u001b[0m\u001b[0;36m1\u001b[0m\u001b[0;34m]\u001b[0m\u001b[0;34m.\u001b[0m\u001b[0mbias\u001b[0m\u001b[0;34m.\u001b[0m\u001b[0mdata\u001b[0m \u001b[0;34m=\u001b[0m \u001b[0mtorch\u001b[0m\u001b[0;34m.\u001b[0m\u001b[0mtensor\u001b[0m\u001b[0;34m(\u001b[0m\u001b[0mnode\u001b[0m\u001b[0;34m.\u001b[0m\u001b[0mbias\u001b[0m\u001b[0;34m)\u001b[0m\u001b[0;34m\u001b[0m\u001b[0;34m\u001b[0m\u001b[0m\n\u001b[1;32m     43\u001b[0m         \u001b[0;32melse\u001b[0m\u001b[0;34m:\u001b[0m\u001b[0;34m\u001b[0m\u001b[0;34m\u001b[0m\u001b[0m\n\u001b[0;32m---> 44\u001b[0;31m             \u001b[0;32mraise\u001b[0m \u001b[0mValueError\u001b[0m\u001b[0;34m(\u001b[0m\u001b[0;34mf\"Unsupported NIR node type: {type(node)}\"\u001b[0m\u001b[0;34m)\u001b[0m\u001b[0;34m\u001b[0m\u001b[0;34m\u001b[0m\u001b[0m\n\u001b[0m\u001b[1;32m     45\u001b[0m \u001b[0;34m\u001b[0m\u001b[0m\n\u001b[1;32m     46\u001b[0m     \u001b[0;32mreturn\u001b[0m \u001b[0mtorch\u001b[0m\u001b[0;34m.\u001b[0m\u001b[0mnn\u001b[0m\u001b[0;34m.\u001b[0m\u001b[0mSequential\u001b[0m\u001b[0;34m(\u001b[0m\u001b[0;34m*\u001b[0m\u001b[0mlayers\u001b[0m\u001b[0;34m)\u001b[0m\u001b[0;34m\u001b[0m\u001b[0;34m\u001b[0m\u001b[0m\n",
            "\u001b[0;31mValueError\u001b[0m: Unsupported NIR node type: <class 'str'>"
          ]
        }
      ]
    }
  ]
}