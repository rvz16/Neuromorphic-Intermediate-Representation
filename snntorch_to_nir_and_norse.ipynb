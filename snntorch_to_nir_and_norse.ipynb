{
  "cells": [
    {
      "cell_type": "markdown",
      "metadata": {
        "id": "E_WlAv-U6kRz"
      },
      "source": [
        "## Example of converting small model from snntorch to Nir and from Niro to Norse"
      ]
    },
    {
      "cell_type": "code",
      "execution_count": 2,
      "metadata": {},
      "outputs": [
        {
          "name": "stdout",
          "output_type": "stream",
          "text": [
            "Requirement already satisfied: matplotlib in ./.venv/lib/python3.12/site-packages (3.10.1)\n",
            "Requirement already satisfied: contourpy>=1.0.1 in ./.venv/lib/python3.12/site-packages (from matplotlib) (1.3.1)\n",
            "Requirement already satisfied: cycler>=0.10 in ./.venv/lib/python3.12/site-packages (from matplotlib) (0.12.1)\n",
            "Requirement already satisfied: fonttools>=4.22.0 in ./.venv/lib/python3.12/site-packages (from matplotlib) (4.57.0)\n",
            "Requirement already satisfied: kiwisolver>=1.3.1 in ./.venv/lib/python3.12/site-packages (from matplotlib) (1.4.8)\n",
            "Requirement already satisfied: numpy>=1.23 in ./.venv/lib/python3.12/site-packages (from matplotlib) (2.2.4)\n",
            "Requirement already satisfied: packaging>=20.0 in ./.venv/lib/python3.12/site-packages (from matplotlib) (24.2)\n",
            "Requirement already satisfied: pillow>=8 in ./.venv/lib/python3.12/site-packages (from matplotlib) (11.1.0)\n",
            "Requirement already satisfied: pyparsing>=2.3.1 in ./.venv/lib/python3.12/site-packages (from matplotlib) (3.2.3)\n",
            "Requirement already satisfied: python-dateutil>=2.7 in ./.venv/lib/python3.12/site-packages (from matplotlib) (2.9.0.post0)\n",
            "Requirement already satisfied: six>=1.5 in ./.venv/lib/python3.12/site-packages (from python-dateutil>=2.7->matplotlib) (1.17.0)\n"
          ]
        }
      ],
      "source": [
        "!pip install matplotlib"
      ]
    },
    {
      "cell_type": "code",
      "execution_count": 3,
      "metadata": {
        "id": "bI52aNnCLlqR"
      },
      "outputs": [
        {
          "name": "stdout",
          "output_type": "stream",
          "text": [
            "Requirement already satisfied: nirtorch in ./.venv/lib/python3.12/site-packages (2.0.2)\n",
            "Requirement already satisfied: torch in ./.venv/lib/python3.12/site-packages (from nirtorch) (2.6.0)\n",
            "Requirement already satisfied: nir in ./.venv/lib/python3.12/site-packages (from nirtorch) (1.0.4)\n",
            "Requirement already satisfied: numpy in ./.venv/lib/python3.12/site-packages (from nir->nirtorch) (2.2.4)\n",
            "Requirement already satisfied: h5py in ./.venv/lib/python3.12/site-packages (from nir->nirtorch) (3.13.0)\n",
            "Requirement already satisfied: filelock in ./.venv/lib/python3.12/site-packages (from torch->nirtorch) (3.18.0)\n",
            "Requirement already satisfied: typing-extensions>=4.10.0 in ./.venv/lib/python3.12/site-packages (from torch->nirtorch) (4.13.1)\n",
            "Requirement already satisfied: networkx in ./.venv/lib/python3.12/site-packages (from torch->nirtorch) (3.4.2)\n",
            "Requirement already satisfied: jinja2 in ./.venv/lib/python3.12/site-packages (from torch->nirtorch) (3.1.6)\n",
            "Requirement already satisfied: fsspec in ./.venv/lib/python3.12/site-packages (from torch->nirtorch) (2025.3.2)\n",
            "Requirement already satisfied: setuptools in ./.venv/lib/python3.12/site-packages (from torch->nirtorch) (78.1.0)\n",
            "Requirement already satisfied: sympy==1.13.1 in ./.venv/lib/python3.12/site-packages (from torch->nirtorch) (1.13.1)\n",
            "Requirement already satisfied: mpmath<1.4,>=1.1.0 in ./.venv/lib/python3.12/site-packages (from sympy==1.13.1->torch->nirtorch) (1.3.0)\n",
            "Requirement already satisfied: MarkupSafe>=2.0 in ./.venv/lib/python3.12/site-packages (from jinja2->torch->nirtorch) (3.0.2)\n"
          ]
        }
      ],
      "source": [
        "!pip install nirtorch"
      ]
    },
    {
      "cell_type": "code",
      "execution_count": 4,
      "metadata": {
        "id": "5EWZQA0DLtQA"
      },
      "outputs": [
        {
          "name": "stdout",
          "output_type": "stream",
          "text": [
            "Requirement already satisfied: norse in ./.venv/lib/python3.12/site-packages (1.1.0)\n",
            "Requirement already satisfied: numpy in ./.venv/lib/python3.12/site-packages (from norse) (2.2.4)\n",
            "Requirement already satisfied: torch>=2.0.0 in ./.venv/lib/python3.12/site-packages (from norse) (2.6.0)\n",
            "Requirement already satisfied: torchvision>=0.15.0 in ./.venv/lib/python3.12/site-packages (from norse) (0.21.0)\n",
            "Requirement already satisfied: nir in ./.venv/lib/python3.12/site-packages (from norse) (1.0.4)\n",
            "Requirement already satisfied: nirtorch in ./.venv/lib/python3.12/site-packages (from norse) (2.0.2)\n",
            "Requirement already satisfied: filelock in ./.venv/lib/python3.12/site-packages (from torch>=2.0.0->norse) (3.18.0)\n",
            "Requirement already satisfied: typing-extensions>=4.10.0 in ./.venv/lib/python3.12/site-packages (from torch>=2.0.0->norse) (4.13.1)\n",
            "Requirement already satisfied: networkx in ./.venv/lib/python3.12/site-packages (from torch>=2.0.0->norse) (3.4.2)\n",
            "Requirement already satisfied: jinja2 in ./.venv/lib/python3.12/site-packages (from torch>=2.0.0->norse) (3.1.6)\n",
            "Requirement already satisfied: fsspec in ./.venv/lib/python3.12/site-packages (from torch>=2.0.0->norse) (2025.3.2)\n",
            "Requirement already satisfied: setuptools in ./.venv/lib/python3.12/site-packages (from torch>=2.0.0->norse) (78.1.0)\n",
            "Requirement already satisfied: sympy==1.13.1 in ./.venv/lib/python3.12/site-packages (from torch>=2.0.0->norse) (1.13.1)\n",
            "Requirement already satisfied: mpmath<1.4,>=1.1.0 in ./.venv/lib/python3.12/site-packages (from sympy==1.13.1->torch>=2.0.0->norse) (1.3.0)\n",
            "Requirement already satisfied: pillow!=8.3.*,>=5.3.0 in ./.venv/lib/python3.12/site-packages (from torchvision>=0.15.0->norse) (11.1.0)\n",
            "Requirement already satisfied: h5py in ./.venv/lib/python3.12/site-packages (from nir->norse) (3.13.0)\n",
            "Requirement already satisfied: MarkupSafe>=2.0 in ./.venv/lib/python3.12/site-packages (from jinja2->torch>=2.0.0->norse) (3.0.2)\n"
          ]
        }
      ],
      "source": [
        "!pip install norse"
      ]
    },
    {
      "cell_type": "code",
      "execution_count": 5,
      "metadata": {
        "id": "WQ-9eY3LbmM9"
      },
      "outputs": [
        {
          "name": "stdout",
          "output_type": "stream",
          "text": [
            "Requirement already satisfied: snntorch in ./.venv/lib/python3.12/site-packages (0.9.4)\n"
          ]
        }
      ],
      "source": [
        "!pip install snntorch"
      ]
    },
    {
      "cell_type": "code",
      "execution_count": 56,
      "metadata": {
        "id": "-lGNRfDDLv_U"
      },
      "outputs": [
        {
          "name": "stderr",
          "output_type": "stream",
          "text": [
            "WARNING:root:removing self-connection ('0', '0')\n",
            "WARNING:root:The parameter r is expected to be set to 1, but was found to diverge (with mean 9.99999713897705).\n",
            "Please read the Norse documentation for more information.\n",
            "This warning can be turned off by setting from_nir(..., ignore_warnings=True)\n",
            "\n",
            "WARNING:root:The parameter r is expected to be set to 1, but was found to diverge (with mean 9.99999713897705).\n",
            "Please read the Norse documentation for more information.\n",
            "This warning can be turned off by setting from_nir(..., ignore_warnings=True)\n",
            "\n"
          ]
        }
      ],
      "source": [
        "import snntorch as snn\n",
        "import torch\n",
        "from snntorch.export_nir import export_to_nir\n",
        "from snntorch import surrogate\n",
        "import norse\n",
        "\n",
        "spike_grad = surrogate.fast_sigmoid()\n",
        "\n",
        "# Simple model on snntorch\n",
        "lif1 = snn.Leaky(beta=0.9, init_hidden=True, spike_grad=spike_grad)\n",
        "lif2 = snn.Leaky(beta=0.9, init_hidden=True, output=True, spike_grad=spike_grad)\n",
        "\n",
        "net = torch.nn.Sequential(\n",
        "    torch.nn.Flatten(),  # Flattening input from [B, 28, 28] to [B, 784]\n",
        "    torch.nn.Linear(6422528, 500),\n",
        "    lif1,\n",
        "    torch.nn.Linear(500, 10),\n",
        "    lif2\n",
        ")\n",
        "\n",
        "# Example of a sample data\n",
        "sample_data = torch.randn(1, 6422528)  # Assuming B=1, and each image is flattened to 784 features\n",
        "\n",
        "# Ensure that the input is in the correct shape: (B, 784)\n",
        "sample_data = sample_data.view(-1, 6422528)  # This flattens it to (1, 784), which is correct for the model\n",
        "\n",
        "# Converting to NIR\n",
        "nir_graph = export_to_nir(net, sample_data)\n",
        "\n",
        "# Generate Norse model from the NIR graph\n",
        "norse_model = norse.torch.from_nir(nir_graph)\n"
      ]
    },
    {
      "cell_type": "code",
      "execution_count": 7,
      "metadata": {},
      "outputs": [
        {
          "data": {
            "text/plain": [
              "{'input': Input(input_type={'input': array([  1, 784])}),\n",
              " '0': Flatten(input_type={'input': None}, start_dim=0, end_dim=-1, output_type={'output': None}, metadata={}),\n",
              " '1': Affine(weight=array([[-0.03015125, -0.0162955 ,  0.00062924, ..., -0.00728388,\n",
              "          0.02867826, -0.03169873],\n",
              "        [-0.02888697, -0.01836348,  0.00819013, ...,  0.03095174,\n",
              "         -0.02070382, -0.020796  ],\n",
              "        [-0.03316863, -0.00866291, -0.02298806, ...,  0.01348705,\n",
              "         -0.01380204, -0.02728877],\n",
              "        ...,\n",
              "        [ 0.02074246,  0.02531577,  0.00309752, ...,  0.00941221,\n",
              "          0.00413614,  0.01885561],\n",
              "        [ 0.0150394 ,  0.006467  , -0.02241449, ..., -0.01184688,\n",
              "          0.00136758, -0.00948241],\n",
              "        [ 0.0354426 ,  0.03383478,  0.01096197, ...,  0.02133078,\n",
              "         -0.02631692,  0.03227327]], shape=(500, 784), dtype=float32), bias=array([-6.47962978e-03,  2.73240469e-02,  2.92935763e-02,  2.07250379e-02,\n",
              "         1.15043786e-03,  8.77495762e-03, -1.06463861e-02, -2.28983685e-02,\n",
              "         6.59606326e-03, -3.63820815e-03, -3.06207798e-02,  2.71588881e-02,\n",
              "         5.70805185e-03,  1.88756001e-03,  1.48068499e-02, -2.24071927e-02,\n",
              "        -2.54821144e-02, -2.06837878e-02,  2.42092963e-02, -5.73702389e-03,\n",
              "        -2.77260561e-02, -7.40207126e-03,  2.78704939e-03,  2.33465014e-03,\n",
              "         3.40711921e-02,  2.12745499e-02,  1.83046889e-02, -9.68374591e-03,\n",
              "        -1.80269182e-02, -2.27383208e-02,  2.78842077e-02,  8.20121611e-04,\n",
              "         3.44827138e-02, -2.77148038e-02,  2.97961161e-02,  6.79408666e-03,\n",
              "         8.56622681e-03, -1.03326440e-02, -1.11483678e-03,  1.61137171e-02,\n",
              "         1.02519272e-02,  1.65647101e-02,  1.71899553e-02, -5.25048841e-03,\n",
              "         1.97423659e-02,  7.50534469e-03,  1.03425132e-02,  1.17712794e-02,\n",
              "        -1.84663162e-02, -1.59847233e-02,  9.03033372e-03,  1.00948429e-02,\n",
              "         7.11069815e-03,  1.89386494e-02, -1.03101730e-02,  7.72690400e-03,\n",
              "        -2.79913004e-02, -7.64269102e-03, -1.60047635e-02, -3.02042756e-02,\n",
              "        -1.56376753e-02, -6.13674987e-03, -3.36123481e-02,  1.04944324e-02,\n",
              "         5.43794478e-04,  2.98266597e-02,  2.66340431e-02,  1.88102899e-03,\n",
              "         2.68904418e-02, -1.31852673e-02,  1.22511052e-02, -3.17386240e-02,\n",
              "         1.61901079e-02, -8.35885759e-03,  1.00249015e-02,  2.89079128e-03,\n",
              "        -2.53397878e-02, -2.15853122e-03, -1.01190256e-02, -4.17045644e-03,\n",
              "        -3.16577405e-02,  1.47957550e-02, -2.37302273e-03,  7.55278580e-03,\n",
              "         9.39481240e-03, -2.18811557e-02,  5.42851444e-03,  2.85011381e-02,\n",
              "         2.48867031e-02,  2.38790400e-02,  3.59894568e-03, -8.82953033e-03,\n",
              "        -7.18923146e-03, -2.90337224e-02,  2.12656744e-02, -1.75519120e-02,\n",
              "        -2.54318248e-02,  7.37240957e-03,  2.16038357e-02,  9.73755587e-03,\n",
              "         3.21606211e-02,  2.77858693e-02,  2.76075955e-02,  9.13618784e-03,\n",
              "        -4.42538131e-03,  2.36497317e-02, -1.10542523e-02, -1.40266297e-02,\n",
              "         2.05488801e-02, -2.69883890e-02, -6.65252144e-03, -1.94564722e-02,\n",
              "        -1.74885914e-02,  3.32378037e-02,  1.63683426e-02,  1.37931835e-02,\n",
              "         1.32470857e-02,  2.24323366e-02, -6.73728355e-04,  3.20573710e-02,\n",
              "        -2.50251945e-02,  3.09107266e-02,  2.20020507e-02, -1.53240953e-02,\n",
              "         2.89242659e-02,  1.72036383e-02, -1.99280912e-03,  1.43968209e-03,\n",
              "        -1.11096632e-02, -7.64708454e-03, -3.21421847e-02, -9.61042382e-03,\n",
              "         1.72173046e-02,  3.13477106e-02, -2.86527630e-03, -1.58677660e-02,\n",
              "         5.62625297e-04, -1.57650299e-02, -2.13120300e-02,  1.66825741e-03,\n",
              "        -8.00193660e-03, -1.40619026e-02, -2.84299143e-02,  3.35448608e-02,\n",
              "        -8.18814617e-03, -3.76375671e-03,  2.96416376e-02,  2.89542265e-02,\n",
              "        -3.47362161e-02, -2.31201369e-02,  8.61743558e-03, -1.51259732e-02,\n",
              "         1.08984541e-02, -1.09467087e-02,  3.39736789e-02,  5.73089300e-03,\n",
              "        -2.93790875e-03,  5.03703952e-03,  2.79734489e-02, -6.56778086e-03,\n",
              "         3.42784412e-02, -1.44518241e-02, -2.07225680e-02, -1.87241789e-02,\n",
              "        -2.57289838e-02, -1.12685226e-02, -3.16922814e-02,  1.31009351e-02,\n",
              "         2.98915394e-02, -3.35237868e-02, -2.02471912e-02, -3.16258147e-02,\n",
              "         5.47932752e-04,  2.13550590e-02,  2.49703713e-02,  1.21894144e-02,\n",
              "        -2.56092865e-02,  3.00874505e-02,  2.31231116e-02,  1.63381398e-02,\n",
              "        -3.48497406e-02, -2.50708293e-02,  2.17533540e-02, -1.34906564e-02,\n",
              "        -3.13840178e-03,  3.66764842e-03,  1.35776624e-02,  1.50538813e-02,\n",
              "         6.52154861e-03, -3.11106630e-02, -3.00437473e-02,  2.32100878e-02,\n",
              "        -1.15256654e-02,  8.08055140e-03,  2.17061695e-02, -2.96119079e-02,\n",
              "        -1.42883407e-02,  2.50001736e-02,  4.92047006e-03,  1.51328873e-02,\n",
              "         2.16583032e-02, -1.50482105e-02, -2.73481272e-02, -1.92601979e-02,\n",
              "        -1.66097414e-02, -1.22767733e-02, -3.56447995e-02, -9.69587918e-03,\n",
              "        -2.55494006e-02, -3.11238728e-02,  1.06696915e-02,  2.66273841e-02,\n",
              "         8.87141936e-03, -9.79137421e-03,  3.39802988e-02, -2.63445806e-02,\n",
              "         1.35059026e-03,  2.58033704e-02, -1.14940284e-02,  1.56200109e-02,\n",
              "         1.90317724e-02,  1.78248971e-03,  6.05274970e-03, -1.85846314e-02,\n",
              "        -2.76287552e-02,  3.51916328e-02, -3.41810435e-02, -2.76239105e-02,\n",
              "        -1.85837578e-02,  3.56337689e-02,  1.41499089e-02, -2.99786590e-02,\n",
              "         2.89927479e-02, -2.70602424e-02,  1.29788052e-02,  1.52979717e-02,\n",
              "        -1.24407373e-02,  3.44368815e-02, -1.36911236e-02,  9.79623199e-03,\n",
              "         1.70171391e-02,  7.33937556e-03, -7.24746939e-03, -1.97093878e-02,\n",
              "         2.47799093e-03, -2.25212295e-02,  2.78185923e-02,  4.96134628e-03,\n",
              "        -1.87302660e-02, -3.45104598e-02, -2.11110245e-02,  1.34813711e-02,\n",
              "        -3.21595557e-02,  2.37480588e-02,  1.56080984e-02, -3.30704302e-02,\n",
              "         1.68106910e-02,  1.72112547e-02,  3.47735658e-02, -1.29464697e-02,\n",
              "        -3.29304487e-02, -2.18845922e-02, -8.95174965e-03, -7.05291983e-03,\n",
              "        -2.64682136e-02,  1.35741364e-02, -2.67287213e-02,  9.65343695e-03,\n",
              "         1.98968832e-04, -2.18353029e-02,  1.84824001e-02, -5.75651042e-03,\n",
              "         1.47187673e-02,  2.76628998e-03,  1.79073866e-02,  1.36844777e-02,\n",
              "        -2.20573079e-02,  1.97406206e-02, -2.17979439e-02, -1.40385935e-02,\n",
              "         3.31330188e-02,  1.61271878e-02,  1.39262173e-02, -2.34357547e-02,\n",
              "         2.74307653e-02,  6.29175175e-03, -2.24232096e-02, -8.59944802e-03,\n",
              "        -1.78199466e-02, -2.47359294e-05,  3.34260911e-02, -3.63156642e-03,\n",
              "         3.13820466e-02, -9.38367005e-03, -1.18293045e-02, -3.39697953e-03,\n",
              "         1.56875176e-04,  8.04614183e-03,  1.85840726e-02, -3.66425095e-03,\n",
              "         6.89585740e-03, -2.01738104e-02, -9.16111935e-03, -2.87100696e-03,\n",
              "         1.14988396e-02,  9.32160020e-03,  2.28450056e-02, -7.15259183e-03,\n",
              "         5.88563969e-03,  2.13792920e-03,  4.44859295e-04,  2.44361218e-02,\n",
              "        -2.64860485e-02, -8.02620873e-03,  3.05173844e-02, -3.27191539e-02,\n",
              "         3.35935503e-02,  1.85216255e-02, -4.85782977e-03, -2.86875982e-02,\n",
              "        -1.71052944e-02,  2.23817620e-02,  3.20189353e-03, -3.06683667e-02,\n",
              "         9.99880303e-03,  1.47703597e-02,  2.17159875e-02,  2.93772444e-02,\n",
              "        -4.09873901e-03,  1.36943636e-02,  1.82263684e-02, -9.64020001e-05,\n",
              "         7.86253426e-04, -1.02285538e-02,  1.63317546e-02, -2.76958495e-02,\n",
              "         1.43237840e-02,  7.24103209e-03, -1.35488044e-02,  1.83963478e-02,\n",
              "         2.41267476e-02,  8.24685616e-04, -1.41975079e-02, -3.25151160e-02,\n",
              "        -2.25353297e-02, -8.97451397e-03,  1.07216332e-02,  4.33202321e-03,\n",
              "         3.31109390e-02, -2.99175903e-02, -1.20786736e-02,  2.13829633e-02,\n",
              "        -1.52854156e-02, -4.28711949e-03,  1.24367485e-02,  3.03391535e-02,\n",
              "        -1.93260573e-02, -3.30290906e-02,  7.27525400e-03, -1.07036321e-03,\n",
              "         2.34727152e-02, -3.49222720e-02, -8.11499357e-03, -1.53322481e-02,\n",
              "        -2.48041712e-02, -7.08676688e-03,  5.23350947e-03, -3.53614357e-03,\n",
              "        -3.03885303e-02,  1.77274775e-02, -2.44501675e-03,  3.21578160e-02,\n",
              "         3.47878933e-02, -2.10542306e-02, -2.15455126e-02, -2.97585223e-02,\n",
              "         3.45337801e-02,  5.10137435e-03,  2.54296754e-02,  1.55928526e-02,\n",
              "         2.69861752e-03,  2.19072420e-02,  3.53456363e-02, -1.60493515e-02,\n",
              "         3.18520423e-03, -1.68649349e-02, -3.22609060e-02, -2.81761549e-02,\n",
              "        -2.71506067e-02,  9.35522188e-03, -1.05025684e-02, -2.21326109e-02,\n",
              "         3.03943977e-02, -2.64456458e-02,  2.69033704e-02,  1.08074425e-02,\n",
              "         1.16135401e-03,  2.54266094e-02,  3.36161405e-02, -4.91546746e-03,\n",
              "        -2.74569746e-02,  3.04246861e-02, -1.80635042e-02, -3.40003073e-02,\n",
              "         3.19450460e-02, -2.83987019e-02, -4.64177597e-03,  3.05582080e-02,\n",
              "        -2.32931301e-02,  1.12444470e-02,  2.29325220e-02, -8.02679639e-03,\n",
              "        -2.07784437e-02, -3.04847546e-02,  2.20736451e-02,  2.60768458e-02,\n",
              "        -2.94827158e-03,  2.00997083e-03, -4.79393359e-03,  2.73238812e-02,\n",
              "         5.26731368e-03,  2.77473051e-02,  1.88887902e-02,  1.53059494e-02,\n",
              "        -1.40019404e-02,  6.45137299e-03,  3.49542941e-04, -2.87548564e-02,\n",
              "        -9.54238512e-03,  3.15501615e-02, -1.14098797e-02,  3.06041688e-02,\n",
              "         7.86784291e-03,  1.41446514e-03, -9.79319680e-03,  9.68439272e-04,\n",
              "         1.93491802e-02, -2.17075273e-02,  5.24339965e-03,  8.68873962e-04,\n",
              "        -3.17228399e-02, -7.38728931e-03, -8.18942767e-03, -1.73313878e-02,\n",
              "        -2.19664704e-02,  7.50597042e-04, -1.76529381e-02,  1.21971583e-02,\n",
              "        -1.68751702e-02,  3.77732539e-03,  1.82690546e-02,  9.84929781e-03,\n",
              "         3.27909589e-02,  3.90950311e-03, -1.15837930e-02, -3.02924402e-02,\n",
              "        -4.09994827e-05,  7.74779078e-03, -3.46160377e-03, -2.15573441e-02,\n",
              "         2.55328510e-02,  7.50682643e-03,  1.80256162e-02,  2.78154369e-02,\n",
              "         1.12841344e-02, -1.89454854e-02, -1.22824106e-02,  1.13916313e-02,\n",
              "        -2.35275850e-02,  1.48055945e-02,  2.78067645e-02, -3.03685628e-02,\n",
              "        -8.99673812e-03,  2.13328991e-02, -2.90302355e-02, -1.38199851e-02,\n",
              "         3.09963115e-02, -2.20086668e-02, -1.45570468e-02, -1.77644920e-02,\n",
              "         1.40346000e-02,  1.41156150e-03, -5.89455897e-03, -3.41856922e-03,\n",
              "         1.32239172e-02, -1.97307467e-02,  1.06822262e-02,  3.38954031e-02,\n",
              "        -8.36175308e-03, -1.51308905e-02,  2.40250546e-02, -7.93632492e-03,\n",
              "         1.92604330e-03,  2.70348806e-02, -1.10863708e-02, -1.94179714e-02,\n",
              "         4.68546152e-03,  2.42186245e-02,  2.07354855e-02, -2.97206603e-02],\n",
              "       dtype=float32), input_type={'input': array([784])}, output_type={'output': array([500])}, metadata={}),\n",
              " '2': LIF(tau=np.float32(0.0009999997), r=np.float32(9.999997), v_leak=array(0., dtype=float32), v_threshold=array(1., dtype=float32), input_type={'input': array([], dtype=float64)}, output_type={'output': array([], dtype=float64)}, metadata={}),\n",
              " '3': Affine(weight=array([[ 0.00350974,  0.02075436, -0.03466185, ...,  0.01385563,\n",
              "         -0.03215863, -0.02899333],\n",
              "        [-0.01316195, -0.00365314,  0.03490451, ..., -0.01577178,\n",
              "          0.00269665,  0.00039801],\n",
              "        [ 0.01804397,  0.04047883,  0.03537149, ...,  0.02340114,\n",
              "         -0.03260363,  0.00886304],\n",
              "        ...,\n",
              "        [-0.02301201, -0.01764765, -0.00572257, ..., -0.02985139,\n",
              "          0.01449004, -0.0255863 ],\n",
              "        [ 0.02459514,  0.02888549, -0.00038825, ...,  0.04102316,\n",
              "         -0.03504967, -0.04007352],\n",
              "        [ 0.02137025,  0.03685466, -0.0132182 , ...,  0.03877498,\n",
              "         -0.00994984, -0.03536453]], shape=(10, 500), dtype=float32), bias=array([ 0.00667393, -0.03953225,  0.00322852, -0.00096252,  0.00967335,\n",
              "         0.00920021, -0.02392501,  0.00505127,  0.0369041 , -0.02841818],\n",
              "       dtype=float32), input_type={'input': array([500])}, output_type={'output': array([10])}, metadata={}),\n",
              " '4': LIF(tau=np.float32(0.0009999997), r=np.float32(9.999997), v_leak=array(0., dtype=float32), v_threshold=array(1., dtype=float32), input_type={'input': array([], dtype=float64)}, output_type={'output': array([], dtype=float64)}, metadata={}),\n",
              " 'output': Output(output_type={'output': array([ 1, 10])})}"
            ]
          },
          "execution_count": 7,
          "metadata": {},
          "output_type": "execute_result"
        }
      ],
      "source": [
        "nir_graph.nodes"
      ]
    },
    {
      "cell_type": "code",
      "execution_count": 57,
      "metadata": {},
      "outputs": [
        {
          "data": {
            "text/plain": [
              "GraphExecutor(\n",
              "  (input): Identity()\n",
              "  (0): Flatten(start_dim=0, end_dim=-1)\n",
              "  (1): Linear(in_features=6422528, out_features=500, bias=True)\n",
              "  (2): LIFBoxCell(p=LIFBoxParameters(tau_mem_inv=tensor(1000.0003), v_leak=tensor(0.), v_th=tensor(1.), v_reset=tensor(0.), method='super', alpha=tensor(100.), reset_method=<function reset_value at 0x113ab94e0>), dt=0.001)\n",
              "  (3): Linear(in_features=500, out_features=10, bias=True)\n",
              "  (4): LIFBoxCell(p=LIFBoxParameters(tau_mem_inv=tensor(1000.0003), v_leak=tensor(0.), v_th=tensor(1.), v_reset=tensor(0.), method='super', alpha=tensor(100.), reset_method=<function reset_value at 0x113ab94e0>), dt=0.001)\n",
              "  (output): Identity()\n",
              ")"
            ]
          },
          "execution_count": 57,
          "metadata": {},
          "output_type": "execute_result"
        }
      ],
      "source": [
        "norse_model"
      ]
    },
    {
      "cell_type": "code",
      "execution_count": 9,
      "metadata": {
        "id": "6v-UVlD0L-wP"
      },
      "outputs": [
        {
          "name": "stdout",
          "output_type": "stream",
          "text": [
            "Output Spikes: tensor([[0., 0., 0., 0., 0., 0., 0., 0., 0., 0.]], grad_fn=<MulBackward0>)\n",
            "Output Membrane Potential: tensor([[-0.0426, -0.2665, -0.0382, -0.0012,  0.0815,  0.0659,  0.1350, -0.2988,\n",
            "          0.2377,  0.0261]], grad_fn=<SubBackward0>)\n"
          ]
        }
      ],
      "source": [
        "x = torch.rand(1,784)\n",
        "\n",
        "output_spikes, output_membrane = norse_model(x)\n",
        "\n",
        "output_spikes, output_membrane = net(x)\n",
        "\n",
        "print(\"Output Spikes:\", output_spikes)\n",
        "print(\"Output Membrane Potential:\", output_membrane)"
      ]
    },
    {
      "cell_type": "markdown",
      "metadata": {
        "id": "COELX4gDGjsH"
      },
      "source": [
        "## Downloading and visualising NMNIST"
      ]
    },
    {
      "cell_type": "code",
      "execution_count": 10,
      "metadata": {
        "id": "YjDI9NMHQ-Ki"
      },
      "outputs": [],
      "source": [
        "import torchvision\n",
        "import torch\n",
        "\n",
        "BATCH_SIZE = 256\n",
        "\n",
        "transform = torchvision.transforms.Compose(\n",
        "    [\n",
        "        torchvision.transforms.ToTensor(),\n",
        "        torchvision.transforms.Normalize((0.1307,), (0.3081,)),\n",
        "    ]\n",
        ")\n",
        "\n",
        "train_data = torchvision.datasets.MNIST(\n",
        "    root=\".\",\n",
        "    train=True,\n",
        "    download=True,\n",
        "    transform=transform,\n",
        ")\n",
        "\n",
        "train_loader = torch.utils.data.DataLoader(\n",
        "    train_data, batch_size=BATCH_SIZE, shuffle=True\n",
        ")\n",
        "\n",
        "test_loader = torch.utils.data.DataLoader(\n",
        "    torchvision.datasets.MNIST(\n",
        "        root=\".\",\n",
        "        train=False,\n",
        "        transform=transform,\n",
        "    ),\n",
        "    batch_size=BATCH_SIZE,\n",
        ")"
      ]
    },
    {
      "cell_type": "code",
      "execution_count": 11,
      "metadata": {
        "colab": {
          "base_uri": "https://localhost:8080/",
          "height": 426
        },
        "id": "zTiB6ATaKORz",
        "outputId": "638256f9-a7f0-4856-cf60-f908e781ebf1"
      },
      "outputs": [
        {
          "name": "stdout",
          "output_type": "stream",
          "text": [
            "0\n"
          ]
        },
        {
          "data": {
            "image/png": "[encoded data removed]",
            "text/plain": [
              "<Figure size 480x480 with 2 Axes>"
            ]
          },
          "metadata": {},
          "output_type": "display_data"
        }
      ],
      "source": [
        "import matplotlib.pyplot as plt\n",
        "\n",
        "img, label = train_data[1]\n",
        "\n",
        "plt.matshow(img[0])\n",
        "plt.colorbar()\n",
        "print(label)"
      ]
    },
    {
      "cell_type": "code",
      "execution_count": 12,
      "metadata": {},
      "outputs": [],
      "source": [
        "from norse.torch.module.lif import LIFRecurrentCell"
      ]
    },
    {
      "cell_type": "code",
      "execution_count": 13,
      "metadata": {},
      "outputs": [
        {
          "name": "stdout",
          "output_type": "stream",
          "text": [
            "Requirement already satisfied: tqdm in ./.venv/lib/python3.12/site-packages (4.67.1)\n",
            "Note: you may need to restart the kernel to use updated packages.\n"
          ]
        }
      ],
      "source": [
        "pip install tqdm"
      ]
    },
    {
      "cell_type": "code",
      "execution_count": 14,
      "metadata": {},
      "outputs": [
        {
          "data": {
            "text/plain": [
              "GraphExecutor(\n",
              "  (input): Identity()\n",
              "  (0): Flatten(start_dim=0, end_dim=-1)\n",
              "  (1): Linear(in_features=784, out_features=500, bias=True)\n",
              "  (2): LIFBoxCell(p=LIFBoxParameters(tau_mem_inv=tensor(1000.0003), v_leak=tensor(0.), v_th=tensor(1.), v_reset=tensor(0.), method='super', alpha=tensor(100.), reset_method=<function reset_value at 0x113ab94e0>), dt=0.001)\n",
              "  (3): Linear(in_features=500, out_features=10, bias=True)\n",
              "  (4): LIFBoxCell(p=LIFBoxParameters(tau_mem_inv=tensor(1000.0003), v_leak=tensor(0.), v_th=tensor(1.), v_reset=tensor(0.), method='super', alpha=tensor(100.), reset_method=<function reset_value at 0x113ab94e0>), dt=0.001)\n",
              "  (output): Identity()\n",
              ")"
            ]
          },
          "execution_count": 14,
          "metadata": {},
          "output_type": "execute_result"
        }
      ],
      "source": [
        "norse_model"
      ]
    },
    {
      "cell_type": "code",
      "execution_count": 34,
      "metadata": {},
      "outputs": [],
      "source": [
        "snn=norse_model"
      ]
    },
    {
      "cell_type": "code",
      "execution_count": 54,
      "metadata": {},
      "outputs": [],
      "source": [
        "class Model(torch.nn.Module):\n",
        "    def __init__(self, encoder, snn, decoder):\n",
        "        super(Model, self).__init__()\n",
        "        self.encoder = encoder\n",
        "        self.snn = snn\n",
        "        self.decoder = decoder\n",
        "\n",
        "    def forward(self, x):\n",
        "        x = self.encoder(x)\n",
        "        x = self.snn(x)\n",
        "        log_p_y = self.decoder(x)\n",
        "        return log_p_y  "
      ]
    },
    {
      "cell_type": "code",
      "execution_count": 16,
      "metadata": {},
      "outputs": [],
      "source": [
        "m = LIFRecurrentCell(input_size=200, hidden_size=100)"
      ]
    },
    {
      "cell_type": "code",
      "execution_count": 17,
      "metadata": {},
      "outputs": [],
      "source": [
        "class ParametrizedLIFRecurrentCell(torch.nn.Module):\n",
        "    def __init__(self, input_size, hidden_size):\n",
        "        super(ParametrizedLIFRecurrentCell, self).__init__()\n",
        "        self.tau_mem_inv = torch.nn.Parameter(norse.torch.functional.lif.LIFParameters().tau_mem_inv + 20*torch.randn(hidden_size))\n",
        "        self.v_th = torch.nn.Parameter(0.5 + 0.1 * torch.randn(hidden_size))\n",
        "        self.cell = norse.torch.module.lif.LIFRecurrentCell(input_size=input_size, hidden_size=hidden_size, \n",
        "                                                        p = norse.torch.functional.lif.LIFParameters(\n",
        "                                                            tau_mem_inv = self.tau_mem_inv,\n",
        "                                                            v_th = self.v_th,\n",
        "                                                            alpha = 100,\n",
        "                                                        )\n",
        "                                                        \n",
        "        )\n",
        "\n",
        "    def forward(self, x, s = None):\n",
        "        return self.cell(x, s)"
      ]
    },
    {
      "cell_type": "code",
      "execution_count": 18,
      "metadata": {},
      "outputs": [],
      "source": [
        "from tqdm.notebook import tqdm, trange\n",
        "\n",
        "def train(model, device, train_loader, optimizer, epoch, max_epochs):\n",
        "    model.train()\n",
        "    losses = []\n",
        "\n",
        "    for (data, target) in tqdm(train_loader, leave=False):\n",
        "        data, target = data.to(device), target.to(device)\n",
        "        optimizer.zero_grad()\n",
        "        output = model(data)\n",
        "        loss = torch.nn.functional.nll_loss(output, target)\n",
        "        loss.backward()\n",
        "        optimizer.step()\n",
        "        losses.append(loss.item())\n",
        "\n",
        "    mean_loss = np.mean(losses)\n",
        "    return losses, mean_loss"
      ]
    },
    {
      "cell_type": "code",
      "execution_count": 19,
      "metadata": {},
      "outputs": [],
      "source": [
        "def test(model, device, test_loader, epoch):\n",
        "    model.eval()\n",
        "    test_loss = 0\n",
        "    correct = 0\n",
        "    with torch.no_grad():\n",
        "        for data, target in test_loader:\n",
        "            data, target = data.to(device), target.to(device)\n",
        "            output = model(data)\n",
        "            test_loss += torch.nn.functional.nll_loss(\n",
        "                output, target, reduction=\"sum\"\n",
        "            ).item()  # sum up batch loss\n",
        "            pred = output.argmax(\n",
        "                dim=1, keepdim=True\n",
        "            )  # get the index of the max log-probability\n",
        "            correct += pred.eq(target.view_as(pred)).sum().item()\n",
        "\n",
        "    test_loss /= len(test_loader.dataset)\n",
        "\n",
        "    accuracy = 100.0 * correct / len(test_loader.dataset)\n",
        "\n",
        "    return test_loss, accuracy"
      ]
    },
    {
      "cell_type": "code",
      "execution_count": 20,
      "metadata": {},
      "outputs": [],
      "source": [
        "from norse.torch import ConstantCurrentLIFEncoder\n",
        "\n",
        "def decode(x):\n",
        "    x, _ = torch.max(x, 0)\n",
        "    log_p_y = torch.nn.functional.log_softmax(x, dim=1)\n",
        "    return log_p_y\n",
        "\n",
        "\n",
        "T = 32\n",
        "LR = 0.002\n",
        "INPUT_FEATURES = 28*28\n",
        "HIDDEN_FEATURES = 100\n",
        "OUTPUT_FEATURES = 10\n",
        "EPOCHS = 5\n",
        "\n",
        "if torch.cuda.is_available():\n",
        "    DEVICE = torch.device(\"cuda\")\n",
        "else:\n",
        "    DEVICE = torch.device(\"cpu\")"
      ]
    },
    {
      "cell_type": "code",
      "execution_count": 21,
      "metadata": {},
      "outputs": [],
      "source": [
        "def run_training(model, optimizer, epochs = EPOCHS):\n",
        "    training_losses = []\n",
        "    mean_losses = []\n",
        "    test_losses = []\n",
        "    accuracies = []\n",
        "\n",
        "    torch.autograd.set_detect_anomaly(True)\n",
        "\n",
        "    for epoch in trange(epochs):\n",
        "        training_loss, mean_loss = train(model, DEVICE, train_loader, optimizer, epoch, max_epochs=EPOCHS)\n",
        "        test_loss, accuracy = test(model, DEVICE, test_loader, epoch)\n",
        "        training_losses += training_loss\n",
        "        mean_losses.append(mean_loss)\n",
        "        test_losses.append(test_loss)\n",
        "        accuracies.append(accuracy)\n",
        "\n",
        "    print(f\"final accuracy: {accuracies[-1]}\")\n",
        "    return model"
      ]
    },
    {
      "cell_type": "code",
      "execution_count": 60,
      "metadata": {},
      "outputs": [],
      "source": [
        "model = Model(\n",
        "    encoder=ConstantCurrentLIFEncoder(\n",
        "      seq_length=T,\n",
        "    ),\n",
        "    snn=norse_model,  # <-- no parentheses or parameters\n",
        "    decoder=decode).to(DEVICE)\n",
        "\n",
        "optimizer = torch.optim.Adam(model.parameters(), lr=LR)"
      ]
    },
    {
      "cell_type": "code",
      "execution_count": 32,
      "metadata": {},
      "outputs": [
        {
          "ename": "AttributeError",
          "evalue": "'GraphExecutor' object has no attribute 'cell'",
          "output_type": "error",
          "traceback": [
            "\u001b[31m---------------------------------------------------------------------------\u001b[39m",
            "\u001b[31mAttributeError\u001b[39m                            Traceback (most recent call last)",
            "\u001b[36mCell\u001b[39m\u001b[36m \u001b[39m\u001b[32mIn[32]\u001b[39m\u001b[32m, line 1\u001b[39m\n\u001b[32m----> \u001b[39m\u001b[32m1\u001b[39m tau_mem_inv_before = \u001b[43mmodel\u001b[49m\u001b[43m.\u001b[49m\u001b[43msnn\u001b[49m\u001b[43m.\u001b[49m\u001b[43mcell\u001b[49m.cell.p.tau_mem_inv.cpu().detach().numpy()\n\u001b[32m      2\u001b[39m v_th_before = model.snn.cell.cell.p.v_th.cpu().detach().numpy()\n",
            "\u001b[36mFile \u001b[39m\u001b[32m~/Documents/vs_files/Neuromorphic-Intermediate-Representation/.venv/lib/python3.12/site-packages/torch/nn/modules/module.py:1928\u001b[39m, in \u001b[36mModule.__getattr__\u001b[39m\u001b[34m(self, name)\u001b[39m\n\u001b[32m   1926\u001b[39m     \u001b[38;5;28;01mif\u001b[39;00m name \u001b[38;5;129;01min\u001b[39;00m modules:\n\u001b[32m   1927\u001b[39m         \u001b[38;5;28;01mreturn\u001b[39;00m modules[name]\n\u001b[32m-> \u001b[39m\u001b[32m1928\u001b[39m \u001b[38;5;28;01mraise\u001b[39;00m \u001b[38;5;167;01mAttributeError\u001b[39;00m(\n\u001b[32m   1929\u001b[39m     \u001b[33mf\u001b[39m\u001b[33m\"\u001b[39m\u001b[33m'\u001b[39m\u001b[38;5;132;01m{\u001b[39;00m\u001b[38;5;28mtype\u001b[39m(\u001b[38;5;28mself\u001b[39m).\u001b[34m__name__\u001b[39m\u001b[38;5;132;01m}\u001b[39;00m\u001b[33m'\u001b[39m\u001b[33m object has no attribute \u001b[39m\u001b[33m'\u001b[39m\u001b[38;5;132;01m{\u001b[39;00mname\u001b[38;5;132;01m}\u001b[39;00m\u001b[33m'\u001b[39m\u001b[33m\"\u001b[39m\n\u001b[32m   1930\u001b[39m )\n",
            "\u001b[31mAttributeError\u001b[39m: 'GraphExecutor' object has no attribute 'cell'"
          ]
        }
      ],
      "source": [
        "tau_mem_inv_before = model.snn.cell.cell.p.tau_mem_inv.cpu().detach().numpy()\n",
        "v_th_before = model.snn.cell.cell.p.v_th.cpu().detach().numpy()"
      ]
    },
    {
      "cell_type": "code",
      "execution_count": 24,
      "metadata": {},
      "outputs": [
        {
          "name": "stdout",
          "output_type": "stream",
          "text": [
            "Requirement already satisfied: ipywidgets in ./.venv/lib/python3.12/site-packages (8.1.5)\n",
            "Requirement already satisfied: comm>=0.1.3 in ./.venv/lib/python3.12/site-packages (from ipywidgets) (0.2.2)\n",
            "Requirement already satisfied: ipython>=6.1.0 in ./.venv/lib/python3.12/site-packages (from ipywidgets) (9.1.0)\n",
            "Requirement already satisfied: traitlets>=4.3.1 in ./.venv/lib/python3.12/site-packages (from ipywidgets) (5.14.3)\n",
            "Requirement already satisfied: widgetsnbextension~=4.0.12 in ./.venv/lib/python3.12/site-packages (from ipywidgets) (4.0.13)\n",
            "Requirement already satisfied: jupyterlab-widgets~=3.0.12 in ./.venv/lib/python3.12/site-packages (from ipywidgets) (3.0.13)\n",
            "Requirement already satisfied: decorator in ./.venv/lib/python3.12/site-packages (from ipython>=6.1.0->ipywidgets) (5.2.1)\n",
            "Requirement already satisfied: ipython-pygments-lexers in ./.venv/lib/python3.12/site-packages (from ipython>=6.1.0->ipywidgets) (1.1.1)\n",
            "Requirement already satisfied: jedi>=0.16 in ./.venv/lib/python3.12/site-packages (from ipython>=6.1.0->ipywidgets) (0.19.2)\n",
            "Requirement already satisfied: matplotlib-inline in ./.venv/lib/python3.12/site-packages (from ipython>=6.1.0->ipywidgets) (0.1.7)\n",
            "Requirement already satisfied: pexpect>4.3 in ./.venv/lib/python3.12/site-packages (from ipython>=6.1.0->ipywidgets) (4.9.0)\n",
            "Requirement already satisfied: prompt_toolkit<3.1.0,>=3.0.41 in ./.venv/lib/python3.12/site-packages (from ipython>=6.1.0->ipywidgets) (3.0.50)\n",
            "Requirement already satisfied: pygments>=2.4.0 in ./.venv/lib/python3.12/site-packages (from ipython>=6.1.0->ipywidgets) (2.19.1)\n",
            "Requirement already satisfied: stack_data in ./.venv/lib/python3.12/site-packages (from ipython>=6.1.0->ipywidgets) (0.6.3)\n",
            "Requirement already satisfied: parso<0.9.0,>=0.8.4 in ./.venv/lib/python3.12/site-packages (from jedi>=0.16->ipython>=6.1.0->ipywidgets) (0.8.4)\n",
            "Requirement already satisfied: ptyprocess>=0.5 in ./.venv/lib/python3.12/site-packages (from pexpect>4.3->ipython>=6.1.0->ipywidgets) (0.7.0)\n",
            "Requirement already satisfied: wcwidth in ./.venv/lib/python3.12/site-packages (from prompt_toolkit<3.1.0,>=3.0.41->ipython>=6.1.0->ipywidgets) (0.2.13)\n",
            "Requirement already satisfied: executing>=1.2.0 in ./.venv/lib/python3.12/site-packages (from stack_data->ipython>=6.1.0->ipywidgets) (2.2.0)\n",
            "Requirement already satisfied: asttokens>=2.1.0 in ./.venv/lib/python3.12/site-packages (from stack_data->ipython>=6.1.0->ipywidgets) (3.0.0)\n",
            "Requirement already satisfied: pure-eval in ./.venv/lib/python3.12/site-packages (from stack_data->ipython>=6.1.0->ipywidgets) (0.2.3)\n",
            "Note: you may need to restart the kernel to use updated packages.\n"
          ]
        }
      ],
      "source": [
        "pip install ipywidgets"
      ]
    },
    {
      "cell_type": "code",
      "execution_count": null,
      "metadata": {},
      "outputs": [
        {
          "data": {
            "application/vnd.jupyter.widget-view+json": {
              "model_id": "b2c6289e65cc4a57a0d4937600f885f7",
              "version_major": 2,
              "version_minor": 0
            },
            "text/plain": [
              "  0%|          | 0/10 [00:00<?, ?it/s]"
            ]
          },
          "metadata": {},
          "output_type": "display_data"
        },
        {
          "data": {
            "application/vnd.jupyter.widget-view+json": {
              "model_id": "7d15d0b683934b25a3e4a61d74c91e33",
              "version_major": 2,
              "version_minor": 0
            },
            "text/plain": [
              "  0%|          | 0/235 [00:00<?, ?it/s]"
            ]
          },
          "metadata": {},
          "output_type": "display_data"
        },
        {
          "ename": "TypeError",
          "evalue": "max() received an invalid combination of arguments - got (tuple, int), but expected one of:\n * (Tensor input, *, Tensor out = None)\n * (Tensor input, Tensor other, *, Tensor out = None)\n * (Tensor input, int dim, bool keepdim = False, *, tuple of Tensors out = None)\n * (Tensor input, name dim, bool keepdim = False, *, tuple of Tensors out = None)\n",
          "output_type": "error",
          "traceback": [
            "\u001b[31m---------------------------------------------------------------------------\u001b[39m",
            "\u001b[31mTypeError\u001b[39m                                 Traceback (most recent call last)",
            "\u001b[36mCell\u001b[39m\u001b[36m \u001b[39m\u001b[32mIn[61]\u001b[39m\u001b[32m, line 1\u001b[39m\n\u001b[32m----> \u001b[39m\u001b[32m1\u001b[39m model_after = \u001b[43mrun_training\u001b[49m\u001b[43m(\u001b[49m\u001b[43mmodel\u001b[49m\u001b[43m,\u001b[49m\u001b[43m \u001b[49m\u001b[43moptimizer\u001b[49m\u001b[43m,\u001b[49m\u001b[43m \u001b[49m\u001b[43mepochs\u001b[49m\u001b[43m=\u001b[49m\u001b[32;43m10\u001b[39;49m\u001b[43m)\u001b[49m\n",
            "\u001b[36mCell\u001b[39m\u001b[36m \u001b[39m\u001b[32mIn[21]\u001b[39m\u001b[32m, line 10\u001b[39m, in \u001b[36mrun_training\u001b[39m\u001b[34m(model, optimizer, epochs)\u001b[39m\n\u001b[32m      7\u001b[39m torch.autograd.set_detect_anomaly(\u001b[38;5;28;01mTrue\u001b[39;00m)\n\u001b[32m      9\u001b[39m \u001b[38;5;28;01mfor\u001b[39;00m epoch \u001b[38;5;129;01min\u001b[39;00m trange(epochs):\n\u001b[32m---> \u001b[39m\u001b[32m10\u001b[39m     training_loss, mean_loss = \u001b[43mtrain\u001b[49m\u001b[43m(\u001b[49m\u001b[43mmodel\u001b[49m\u001b[43m,\u001b[49m\u001b[43m \u001b[49m\u001b[43mDEVICE\u001b[49m\u001b[43m,\u001b[49m\u001b[43m \u001b[49m\u001b[43mtrain_loader\u001b[49m\u001b[43m,\u001b[49m\u001b[43m \u001b[49m\u001b[43moptimizer\u001b[49m\u001b[43m,\u001b[49m\u001b[43m \u001b[49m\u001b[43mepoch\u001b[49m\u001b[43m,\u001b[49m\u001b[43m \u001b[49m\u001b[43mmax_epochs\u001b[49m\u001b[43m=\u001b[49m\u001b[43mEPOCHS\u001b[49m\u001b[43m)\u001b[49m\n\u001b[32m     11\u001b[39m     test_loss, accuracy = test(model, DEVICE, test_loader, epoch)\n\u001b[32m     12\u001b[39m     training_losses += training_loss\n",
            "\u001b[36mCell\u001b[39m\u001b[36m \u001b[39m\u001b[32mIn[18]\u001b[39m\u001b[32m, line 10\u001b[39m, in \u001b[36mtrain\u001b[39m\u001b[34m(model, device, train_loader, optimizer, epoch, max_epochs)\u001b[39m\n\u001b[32m      8\u001b[39m data, target = data.to(device), target.to(device)\n\u001b[32m      9\u001b[39m optimizer.zero_grad()\n\u001b[32m---> \u001b[39m\u001b[32m10\u001b[39m output = \u001b[43mmodel\u001b[49m\u001b[43m(\u001b[49m\u001b[43mdata\u001b[49m\u001b[43m)\u001b[49m\n\u001b[32m     11\u001b[39m loss = torch.nn.functional.nll_loss(output, target)\n\u001b[32m     12\u001b[39m loss.backward()\n",
            "\u001b[36mFile \u001b[39m\u001b[32m~/Documents/vs_files/Neuromorphic-Intermediate-Representation/.venv/lib/python3.12/site-packages/torch/nn/modules/module.py:1739\u001b[39m, in \u001b[36mModule._wrapped_call_impl\u001b[39m\u001b[34m(self, *args, **kwargs)\u001b[39m\n\u001b[32m   1737\u001b[39m     \u001b[38;5;28;01mreturn\u001b[39;00m \u001b[38;5;28mself\u001b[39m._compiled_call_impl(*args, **kwargs)  \u001b[38;5;66;03m# type: ignore[misc]\u001b[39;00m\n\u001b[32m   1738\u001b[39m \u001b[38;5;28;01melse\u001b[39;00m:\n\u001b[32m-> \u001b[39m\u001b[32m1739\u001b[39m     \u001b[38;5;28;01mreturn\u001b[39;00m \u001b[38;5;28;43mself\u001b[39;49m\u001b[43m.\u001b[49m\u001b[43m_call_impl\u001b[49m\u001b[43m(\u001b[49m\u001b[43m*\u001b[49m\u001b[43margs\u001b[49m\u001b[43m,\u001b[49m\u001b[43m \u001b[49m\u001b[43m*\u001b[49m\u001b[43m*\u001b[49m\u001b[43mkwargs\u001b[49m\u001b[43m)\u001b[49m\n",
            "\u001b[36mFile \u001b[39m\u001b[32m~/Documents/vs_files/Neuromorphic-Intermediate-Representation/.venv/lib/python3.12/site-packages/torch/nn/modules/module.py:1750\u001b[39m, in \u001b[36mModule._call_impl\u001b[39m\u001b[34m(self, *args, **kwargs)\u001b[39m\n\u001b[32m   1745\u001b[39m \u001b[38;5;66;03m# If we don't have any hooks, we want to skip the rest of the logic in\u001b[39;00m\n\u001b[32m   1746\u001b[39m \u001b[38;5;66;03m# this function, and just call forward.\u001b[39;00m\n\u001b[32m   1747\u001b[39m \u001b[38;5;28;01mif\u001b[39;00m \u001b[38;5;129;01mnot\u001b[39;00m (\u001b[38;5;28mself\u001b[39m._backward_hooks \u001b[38;5;129;01mor\u001b[39;00m \u001b[38;5;28mself\u001b[39m._backward_pre_hooks \u001b[38;5;129;01mor\u001b[39;00m \u001b[38;5;28mself\u001b[39m._forward_hooks \u001b[38;5;129;01mor\u001b[39;00m \u001b[38;5;28mself\u001b[39m._forward_pre_hooks\n\u001b[32m   1748\u001b[39m         \u001b[38;5;129;01mor\u001b[39;00m _global_backward_pre_hooks \u001b[38;5;129;01mor\u001b[39;00m _global_backward_hooks\n\u001b[32m   1749\u001b[39m         \u001b[38;5;129;01mor\u001b[39;00m _global_forward_hooks \u001b[38;5;129;01mor\u001b[39;00m _global_forward_pre_hooks):\n\u001b[32m-> \u001b[39m\u001b[32m1750\u001b[39m     \u001b[38;5;28;01mreturn\u001b[39;00m \u001b[43mforward_call\u001b[49m\u001b[43m(\u001b[49m\u001b[43m*\u001b[49m\u001b[43margs\u001b[49m\u001b[43m,\u001b[49m\u001b[43m \u001b[49m\u001b[43m*\u001b[49m\u001b[43m*\u001b[49m\u001b[43mkwargs\u001b[49m\u001b[43m)\u001b[49m\n\u001b[32m   1752\u001b[39m result = \u001b[38;5;28;01mNone\u001b[39;00m\n\u001b[32m   1753\u001b[39m called_always_called_hooks = \u001b[38;5;28mset\u001b[39m()\n",
            "\u001b[36mCell\u001b[39m\u001b[36m \u001b[39m\u001b[32mIn[54]\u001b[39m\u001b[32m, line 11\u001b[39m, in \u001b[36mModel.forward\u001b[39m\u001b[34m(self, x)\u001b[39m\n\u001b[32m      9\u001b[39m x = \u001b[38;5;28mself\u001b[39m.encoder(x)\n\u001b[32m     10\u001b[39m x = \u001b[38;5;28mself\u001b[39m.snn(x)\n\u001b[32m---> \u001b[39m\u001b[32m11\u001b[39m log_p_y = \u001b[38;5;28;43mself\u001b[39;49m\u001b[43m.\u001b[49m\u001b[43mdecoder\u001b[49m\u001b[43m(\u001b[49m\u001b[43mx\u001b[49m\u001b[43m)\u001b[49m\n\u001b[32m     12\u001b[39m \u001b[38;5;28;01mreturn\u001b[39;00m log_p_y\n",
            "\u001b[36mCell\u001b[39m\u001b[36m \u001b[39m\u001b[32mIn[20]\u001b[39m\u001b[32m, line 4\u001b[39m, in \u001b[36mdecode\u001b[39m\u001b[34m(x)\u001b[39m\n\u001b[32m      3\u001b[39m \u001b[38;5;28;01mdef\u001b[39;00m\u001b[38;5;250m \u001b[39m\u001b[34mdecode\u001b[39m(x):\n\u001b[32m----> \u001b[39m\u001b[32m4\u001b[39m     x, _ = \u001b[43mtorch\u001b[49m\u001b[43m.\u001b[49m\u001b[43mmax\u001b[49m\u001b[43m(\u001b[49m\u001b[43mx\u001b[49m\u001b[43m,\u001b[49m\u001b[43m \u001b[49m\u001b[32;43m0\u001b[39;49m\u001b[43m)\u001b[49m\n\u001b[32m      5\u001b[39m     log_p_y = torch.nn.functional.log_softmax(x, dim=\u001b[32m1\u001b[39m)\n\u001b[32m      6\u001b[39m     \u001b[38;5;28;01mreturn\u001b[39;00m log_p_y\n",
            "\u001b[31mTypeError\u001b[39m: max() received an invalid combination of arguments - got (tuple, int), but expected one of:\n * (Tensor input, *, Tensor out = None)\n * (Tensor input, Tensor other, *, Tensor out = None)\n * (Tensor input, int dim, bool keepdim = False, *, tuple of Tensors out = None)\n * (Tensor input, name dim, bool keepdim = False, *, tuple of Tensors out = None)\n"
          ]
        }
      ],
      "source": [
        "model_after = run_training(model, optimizer, epochs=10)\n"
      ]
    },
    {
      "cell_type": "code",
      "execution_count": null,
      "metadata": {},
      "outputs": [],
      "source": [
        "counts, bins = np.histogram(tau_mem_inv_before)\n",
        "fig, ax = plt.subplots(figsize=(9,5))\n",
        "ax.hist(bins[:-1], bins, weights=counts, histtype='step', label='before')\n",
        "counts, bins = np.histogram(tau_mem_inv_after)\n",
        "ax.hist(bins[:-1], bins, weights=counts, histtype='step', label='after')\n",
        "ax.set_xlabel('$\\\\tau_{m}^{-1}$ [ms]')\n",
        "ax.legend()"
      ]
    },
    {
      "cell_type": "code",
      "execution_count": null,
      "metadata": {},
      "outputs": [],
      "source": []
    }
  ],
  "metadata": {
    "colab": {
      "provenance": []
    },
    "kernelspec": {
      "display_name": ".venv",
      "language": "python",
      "name": "python3"
    },
    "language_info": {
      "codemirror_mode": {
        "name": "ipython",
        "version": 3
      },
      "file_extension": ".py",
      "mimetype": "text/x-python",
      "name": "python",
      "nbconvert_exporter": "python",
      "pygments_lexer": "ipython3",
      "version": "3.12.9"
    },
    "widgets": {
      "application/vnd.jupyter.widget-state+json": {
        "2f103ae667e44d619a0447197d446577": {
          "model_module": "@jupyter-widgets/controls",
          "model_module_version": "1.5.0",
          "model_name": "HBoxModel",
          "state": {
            "_dom_classes": [],
            "_model_module": "@jupyter-widgets/controls",
            "_model_module_version": "1.5.0",
            "_model_name": "HBoxModel",
            "_view_count": null,
            "_view_module": "@jupyter-widgets/controls",
            "_view_module_version": "1.5.0",
            "_view_name": "HBoxView",
            "box_style": "",
            "children": [
              "IPY_MODEL_4f243f54ca39448cafb8f40450893f29",
              "IPY_MODEL_d1fc57b0f7fa4a22ac3a7cd2e8a73511",
              "IPY_MODEL_8205885c03bb4dd3a2a5b12a76902d6d"
            ],
            "layout": "IPY_MODEL_f00cc6c79edd430d820434a55752b211"
          }
        },
        "34a2f08a8f9c47ac927071a1952f91ab": {
          "model_module": "@jupyter-widgets/base",
          "model_module_version": "1.2.0",
          "model_name": "LayoutModel",
          "state": {
            "_model_module": "@jupyter-widgets/base",
            "_model_module_version": "1.2.0",
            "_model_name": "LayoutModel",
            "_view_count": null,
            "_view_module": "@jupyter-widgets/base",
            "_view_module_version": "1.2.0",
            "_view_name": "LayoutView",
            "align_content": null,
            "align_items": null,
            "align_self": null,
            "border": null,
            "bottom": null,
            "display": null,
            "flex": null,
            "flex_flow": null,
            "grid_area": null,
            "grid_auto_columns": null,
            "grid_auto_flow": null,
            "grid_auto_rows": null,
            "grid_column": null,
            "grid_gap": null,
            "grid_row": null,
            "grid_template_areas": null,
            "grid_template_columns": null,
            "grid_template_rows": null,
            "height": null,
            "justify_content": null,
            "justify_items": null,
            "left": null,
            "margin": null,
            "max_height": null,
            "max_width": null,
            "min_height": null,
            "min_width": null,
            "object_fit": null,
            "object_position": null,
            "order": null,
            "overflow": null,
            "overflow_x": null,
            "overflow_y": null,
            "padding": null,
            "right": null,
            "top": null,
            "visibility": null,
            "width": null
          }
        },
        "4342dd9971e04e9bbf8ad38c84ba6fe5": {
          "model_module": "@jupyter-widgets/controls",
          "model_module_version": "1.5.0",
          "model_name": "DescriptionStyleModel",
          "state": {
            "_model_module": "@jupyter-widgets/controls",
            "_model_module_version": "1.5.0",
            "_model_name": "DescriptionStyleModel",
            "_view_count": null,
            "_view_module": "@jupyter-widgets/base",
            "_view_module_version": "1.2.0",
            "_view_name": "StyleView",
            "description_width": ""
          }
        },
        "4643031593b74c4ea8a62470c69e7d49": {
          "model_module": "@jupyter-widgets/base",
          "model_module_version": "1.2.0",
          "model_name": "LayoutModel",
          "state": {
            "_model_module": "@jupyter-widgets/base",
            "_model_module_version": "1.2.0",
            "_model_name": "LayoutModel",
            "_view_count": null,
            "_view_module": "@jupyter-widgets/base",
            "_view_module_version": "1.2.0",
            "_view_name": "LayoutView",
            "align_content": null,
            "align_items": null,
            "align_self": null,
            "border": null,
            "bottom": null,
            "display": null,
            "flex": null,
            "flex_flow": null,
            "grid_area": null,
            "grid_auto_columns": null,
            "grid_auto_flow": null,
            "grid_auto_rows": null,
            "grid_column": null,
            "grid_gap": null,
            "grid_row": null,
            "grid_template_areas": null,
            "grid_template_columns": null,
            "grid_template_rows": null,
            "height": null,
            "justify_content": null,
            "justify_items": null,
            "left": null,
            "margin": null,
            "max_height": null,
            "max_width": null,
            "min_height": null,
            "min_width": null,
            "object_fit": null,
            "object_position": null,
            "order": null,
            "overflow": null,
            "overflow_x": null,
            "overflow_y": null,
            "padding": null,
            "right": null,
            "top": null,
            "visibility": null,
            "width": null
          }
        },
        "46c993bcd784406f9e2caa514ed10746": {
          "model_module": "@jupyter-widgets/base",
          "model_module_version": "1.2.0",
          "model_name": "LayoutModel",
          "state": {
            "_model_module": "@jupyter-widgets/base",
            "_model_module_version": "1.2.0",
            "_model_name": "LayoutModel",
            "_view_count": null,
            "_view_module": "@jupyter-widgets/base",
            "_view_module_version": "1.2.0",
            "_view_name": "LayoutView",
            "align_content": null,
            "align_items": null,
            "align_self": null,
            "border": null,
            "bottom": null,
            "display": null,
            "flex": null,
            "flex_flow": null,
            "grid_area": null,
            "grid_auto_columns": null,
            "grid_auto_flow": null,
            "grid_auto_rows": null,
            "grid_column": null,
            "grid_gap": null,
            "grid_row": null,
            "grid_template_areas": null,
            "grid_template_columns": null,
            "grid_template_rows": null,
            "height": null,
            "justify_content": null,
            "justify_items": null,
            "left": null,
            "margin": null,
            "max_height": null,
            "max_width": null,
            "min_height": null,
            "min_width": null,
            "object_fit": null,
            "object_position": null,
            "order": null,
            "overflow": null,
            "overflow_x": null,
            "overflow_y": null,
            "padding": null,
            "right": null,
            "top": null,
            "visibility": null,
            "width": null
          }
        },
        "4f243f54ca39448cafb8f40450893f29": {
          "model_module": "@jupyter-widgets/controls",
          "model_module_version": "1.5.0",
          "model_name": "HTMLModel",
          "state": {
            "_dom_classes": [],
            "_model_module": "@jupyter-widgets/controls",
            "_model_module_version": "1.5.0",
            "_model_name": "HTMLModel",
            "_view_count": null,
            "_view_module": "@jupyter-widgets/controls",
            "_view_module_version": "1.5.0",
            "_view_name": "HTMLView",
            "description": "",
            "description_tooltip": null,
            "layout": "IPY_MODEL_34a2f08a8f9c47ac927071a1952f91ab",
            "placeholder": "​",
            "style": "IPY_MODEL_4342dd9971e04e9bbf8ad38c84ba6fe5",
            "value": ""
          }
        },
        "5f99bf2b24fd43d8aed2554bc6a2b01e": {
          "model_module": "@jupyter-widgets/controls",
          "model_module_version": "1.5.0",
          "model_name": "DescriptionStyleModel",
          "state": {
            "_model_module": "@jupyter-widgets/controls",
            "_model_module_version": "1.5.0",
            "_model_name": "DescriptionStyleModel",
            "_view_count": null,
            "_view_module": "@jupyter-widgets/base",
            "_view_module_version": "1.2.0",
            "_view_name": "StyleView",
            "description_width": ""
          }
        },
        "8205885c03bb4dd3a2a5b12a76902d6d": {
          "model_module": "@jupyter-widgets/controls",
          "model_module_version": "1.5.0",
          "model_name": "HTMLModel",
          "state": {
            "_dom_classes": [],
            "_model_module": "@jupyter-widgets/controls",
            "_model_module_version": "1.5.0",
            "_model_name": "HTMLModel",
            "_view_count": null,
            "_view_module": "@jupyter-widgets/controls",
            "_view_module_version": "1.5.0",
            "_view_name": "HTMLView",
            "description": "",
            "description_tooltip": null,
            "layout": "IPY_MODEL_4643031593b74c4ea8a62470c69e7d49",
            "placeholder": "​",
            "style": "IPY_MODEL_5f99bf2b24fd43d8aed2554bc6a2b01e",
            "value": " 1011894272/? [00:31&lt;00:00, 34728478.23it/s]"
          }
        },
        "955e8aac6dbe4d3595732f36d89fc69d": {
          "model_module": "@jupyter-widgets/controls",
          "model_module_version": "1.5.0",
          "model_name": "ProgressStyleModel",
          "state": {
            "_model_module": "@jupyter-widgets/controls",
            "_model_module_version": "1.5.0",
            "_model_name": "ProgressStyleModel",
            "_view_count": null,
            "_view_module": "@jupyter-widgets/base",
            "_view_module_version": "1.2.0",
            "_view_name": "StyleView",
            "bar_color": null,
            "description_width": ""
          }
        },
        "d1fc57b0f7fa4a22ac3a7cd2e8a73511": {
          "model_module": "@jupyter-widgets/controls",
          "model_module_version": "1.5.0",
          "model_name": "FloatProgressModel",
          "state": {
            "_dom_classes": [],
            "_model_module": "@jupyter-widgets/controls",
            "_model_module_version": "1.5.0",
            "_model_name": "FloatProgressModel",
            "_view_count": null,
            "_view_module": "@jupyter-widgets/controls",
            "_view_module_version": "1.5.0",
            "_view_name": "ProgressView",
            "bar_style": "success",
            "description": "",
            "description_tooltip": null,
            "layout": "IPY_MODEL_46c993bcd784406f9e2caa514ed10746",
            "max": 1011893601,
            "min": 0,
            "orientation": "horizontal",
            "style": "IPY_MODEL_955e8aac6dbe4d3595732f36d89fc69d",
            "value": 1011893601
          }
        },
        "f00cc6c79edd430d820434a55752b211": {
          "model_module": "@jupyter-widgets/base",
          "model_module_version": "1.2.0",
          "model_name": "LayoutModel",
          "state": {
            "_model_module": "@jupyter-widgets/base",
            "_model_module_version": "1.2.0",
            "_model_name": "LayoutModel",
            "_view_count": null,
            "_view_module": "@jupyter-widgets/base",
            "_view_module_version": "1.2.0",
            "_view_name": "LayoutView",
            "align_content": null,
            "align_items": null,
            "align_self": null,
            "border": null,
            "bottom": null,
            "display": null,
            "flex": null,
            "flex_flow": null,
            "grid_area": null,
            "grid_auto_columns": null,
            "grid_auto_flow": null,
            "grid_auto_rows": null,
            "grid_column": null,
            "grid_gap": null,
            "grid_row": null,
            "grid_template_areas": null,
            "grid_template_columns": null,
            "grid_template_rows": null,
            "height": null,
            "justify_content": null,
            "justify_items": null,
            "left": null,
            "margin": null,
            "max_height": null,
            "max_width": null,
            "min_height": null,
            "min_width": null,
            "object_fit": null,
            "object_position": null,
            "order": null,
            "overflow": null,
            "overflow_x": null,
            "overflow_y": null,
            "padding": null,
            "right": null,
            "top": null,
            "visibility": null,
            "width": null
          }
        }
      }
    }
  },
  "nbformat": 4,
  "nbformat_minor": 0
}
